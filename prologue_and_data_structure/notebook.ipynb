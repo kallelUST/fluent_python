{
 "cells": [
  {
   "cell_type": "markdown",
   "metadata": {},
   "source": [
    "# The vector call for calculation "
   ]
  },
  {
   "cell_type": "markdown",
   "metadata": {},
   "source": []
  },
  {
   "cell_type": "code",
   "execution_count": 21,
   "metadata": {},
   "outputs": [
    {
     "name": "stdout",
     "output_type": "stream",
     "text": [
      "hello the world\n"
     ]
    }
   ],
   "source": [
    "print(\"hello the world\")"
   ]
  },
  {
   "cell_type": "code",
   "execution_count": 22,
   "metadata": {},
   "outputs": [],
   "source": [
    "from math import hypot\n",
    "\n",
    "class Vector:\n",
    "    def __init__(self, x, y):\n",
    "        self.x = x \n",
    "        self.y = y\n",
    "\n",
    "    def __add__(self,other):\n",
    "        x = self.x + other.x\n",
    "        y = self.y + other.y\n",
    "        return Vector(x, y)\n",
    "    \n",
    "    def __abs__(self):\n",
    "       return hypot(self.x, self.y)\n",
    "    \n",
    "    def __repr__(self):\n",
    "        return f\"Vector ({self.x}, {self.y})\"\n",
    "    \n",
    "    def __bool__(self):\n",
    "        return bool(abs(self))\n",
    "    \n",
    "    def __mul__(self, coef):\n",
    "        return Vector(self.x*coef, self.y*coef )\n",
    "\n",
    "    \n"
   ]
  },
  {
   "cell_type": "code",
   "execution_count": 23,
   "metadata": {},
   "outputs": [],
   "source": [
    "myVector = Vector(10,2)\n",
    "\n",
    "myVector_1 = Vector(22,5)"
   ]
  },
  {
   "cell_type": "code",
   "execution_count": 24,
   "metadata": {},
   "outputs": [
    {
     "name": "stdout",
     "output_type": "stream",
     "text": [
      "32\n",
      "7\n"
     ]
    }
   ],
   "source": [
    "myVector_2 = myVector + myVector_1\n",
    "print(myVector_2.x)\n",
    "print(myVector_2.y)"
   ]
  },
  {
   "cell_type": "code",
   "execution_count": 25,
   "metadata": {},
   "outputs": [
    {
     "data": {
      "text/plain": [
       "Vector (32, 7)"
      ]
     },
     "execution_count": 25,
     "metadata": {},
     "output_type": "execute_result"
    }
   ],
   "source": [
    "myVector_2"
   ]
  },
  {
   "cell_type": "code",
   "execution_count": 26,
   "metadata": {},
   "outputs": [
    {
     "name": "stdout",
     "output_type": "stream",
     "text": [
      "this shit is working \n"
     ]
    }
   ],
   "source": [
    "test_null_vector = Vector(0,0)\n",
    "if not test_null_vector:\n",
    "    print(\"this shit is working \")"
   ]
  },
  {
   "cell_type": "code",
   "execution_count": 27,
   "metadata": {},
   "outputs": [
    {
     "data": {
      "text/plain": [
       "Vector (64, 14)"
      ]
     },
     "execution_count": 27,
     "metadata": {},
     "output_type": "execute_result"
    }
   ],
   "source": [
    "myVector_2*2"
   ]
  },
  {
   "cell_type": "code",
   "execution_count": 28,
   "metadata": {},
   "outputs": [
    {
     "ename": "TypeError",
     "evalue": "tuple expected at most 1 argument, got 2",
     "output_type": "error",
     "traceback": [
      "\u001b[0;31m---------------------------------------------------------------------------\u001b[0m",
      "\u001b[0;31mTypeError\u001b[0m                                 Traceback (most recent call last)",
      "Cell \u001b[0;32mIn[28], line 1\u001b[0m\n\u001b[0;32m----> 1\u001b[0m test_tuple \u001b[38;5;241m=\u001b[39m \u001b[38;5;28;43mtuple\u001b[39;49m\u001b[43m(\u001b[49m\u001b[38;5;241;43m1\u001b[39;49m\u001b[43m,\u001b[49m\u001b[38;5;241;43m2\u001b[39;49m\u001b[43m)\u001b[49m\n",
      "\u001b[0;31mTypeError\u001b[0m: tuple expected at most 1 argument, got 2"
     ]
    }
   ],
   "source": [
    "test_tuple = tuple(1,2)"
   ]
  },
  {
   "cell_type": "code",
   "execution_count": null,
   "metadata": {},
   "outputs": [],
   "source": [
    "sym = \"$¢£¥€¤\"\n",
    "\n",
    "listcomp = [ord(x) for x in sym]\n",
    "            "
   ]
  },
  {
   "cell_type": "code",
   "execution_count": null,
   "metadata": {},
   "outputs": [
    {
     "data": {
      "text/plain": [
       "[36, 162, 163, 165, 8364, 164]"
      ]
     },
     "execution_count": 36,
     "metadata": {},
     "output_type": "execute_result"
    }
   ],
   "source": [
    "listcomp"
   ]
  },
  {
   "cell_type": "code",
   "execution_count": null,
   "metadata": {},
   "outputs": [],
   "source": [
    "listcomp_2 =   [ord(x) for x in sym if ord(x)>163]"
   ]
  },
  {
   "cell_type": "code",
   "execution_count": null,
   "metadata": {},
   "outputs": [
    {
     "data": {
      "text/plain": [
       "[165, 8364, 164]"
      ]
     },
     "execution_count": 38,
     "metadata": {},
     "output_type": "execute_result"
    }
   ],
   "source": [
    "listcomp_2"
   ]
  },
  {
   "cell_type": "code",
   "execution_count": null,
   "metadata": {},
   "outputs": [],
   "source": [
    "from collections import namedtuple\n",
    "\n",
    "MyRecord = namedtuple(\"RecordoKaka\", [\"number\", \"position\"])"
   ]
  },
  {
   "cell_type": "code",
   "execution_count": null,
   "metadata": {},
   "outputs": [],
   "source": [
    "player1 = MyRecord(9,\"FW\")"
   ]
  },
  {
   "cell_type": "code",
   "execution_count": null,
   "metadata": {},
   "outputs": [
    {
     "data": {
      "text/plain": [
       "RecordoKaka(number=9, position='FW')"
      ]
     },
     "execution_count": 41,
     "metadata": {},
     "output_type": "execute_result"
    }
   ],
   "source": [
    "player1"
   ]
  },
  {
   "cell_type": "code",
   "execution_count": null,
   "metadata": {},
   "outputs": [],
   "source": [
    "generexp = (ord(s) for s in sym)"
   ]
  },
  {
   "cell_type": "code",
   "execution_count": null,
   "metadata": {},
   "outputs": [
    {
     "data": {
      "text/plain": [
       "<generator object <genexpr> at 0x7f2e7a73a2d0>"
      ]
     },
     "execution_count": 43,
     "metadata": {},
     "output_type": "execute_result"
    }
   ],
   "source": [
    "generexp"
   ]
  },
  {
   "cell_type": "code",
   "execution_count": null,
   "metadata": {},
   "outputs": [
    {
     "data": {
      "text/plain": [
       "36"
      ]
     },
     "execution_count": 44,
     "metadata": {},
     "output_type": "execute_result"
    }
   ],
   "source": [
    "generexp.__next__()"
   ]
  },
  {
   "cell_type": "code",
   "execution_count": null,
   "metadata": {},
   "outputs": [
    {
     "data": {
      "text/plain": [
       "162"
      ]
     },
     "execution_count": 45,
     "metadata": {},
     "output_type": "execute_result"
    }
   ],
   "source": [
    "generexp.__next__()"
   ]
  },
  {
   "cell_type": "code",
   "execution_count": null,
   "metadata": {},
   "outputs": [],
   "source": [
    "a, b , *rest = range(5)"
   ]
  },
  {
   "cell_type": "code",
   "execution_count": null,
   "metadata": {},
   "outputs": [
    {
     "data": {
      "text/plain": [
       "[2, 3, 4]"
      ]
     },
     "execution_count": 47,
     "metadata": {},
     "output_type": "execute_result"
    }
   ],
   "source": [
    "rest"
   ]
  },
  {
   "cell_type": "code",
   "execution_count": null,
   "metadata": {},
   "outputs": [
    {
     "data": {
      "text/plain": [
       "list"
      ]
     },
     "execution_count": 48,
     "metadata": {},
     "output_type": "execute_result"
    }
   ],
   "source": [
    "type(rest)"
   ]
  },
  {
   "cell_type": "code",
   "execution_count": null,
   "metadata": {},
   "outputs": [
    {
     "data": {
      "text/plain": [
       "range(0, 5)"
      ]
     },
     "execution_count": 49,
     "metadata": {},
     "output_type": "execute_result"
    }
   ],
   "source": [
    "range(5)"
   ]
  },
  {
   "cell_type": "code",
   "execution_count": null,
   "metadata": {},
   "outputs": [
    {
     "data": {
      "text/plain": [
       "range"
      ]
     },
     "execution_count": 50,
     "metadata": {},
     "output_type": "execute_result"
    }
   ],
   "source": [
    "type(range(5))"
   ]
  },
  {
   "cell_type": "code",
   "execution_count": null,
   "metadata": {},
   "outputs": [],
   "source": [
    "myTuple = (1,2,4,5,6)"
   ]
  },
  {
   "cell_type": "code",
   "execution_count": null,
   "metadata": {},
   "outputs": [
    {
     "name": "stdout",
     "output_type": "stream",
     "text": [
      "[4, 5, 6]\n",
      "<class 'list'>\n"
     ]
    }
   ],
   "source": [
    "a,b,*rest = myTuple\n",
    "print(rest)\n",
    "print(type(rest))"
   ]
  },
  {
   "cell_type": "code",
   "execution_count": null,
   "metadata": {},
   "outputs": [
    {
     "data": {
      "text/plain": [
       "<reversed at 0x7f2e7a7b68f0>"
      ]
     },
     "execution_count": 54,
     "metadata": {},
     "output_type": "execute_result"
    }
   ],
   "source": [
    "reversed(myTuple)"
   ]
  },
  {
   "cell_type": "code",
   "execution_count": null,
   "metadata": {},
   "outputs": [
    {
     "name": "stdout",
     "output_type": "stream",
     "text": [
      "<reversed object at 0x7f2e7aa029b0>\n",
      "(1, 2, 4, 5, 6)\n"
     ]
    }
   ],
   "source": [
    "print(reversed(myTuple))\n",
    "print(myTuple)"
   ]
  },
  {
   "cell_type": "markdown",
   "metadata": {},
   "source": [
    "# Sequences"
   ]
  },
  {
   "cell_type": "markdown",
   "metadata": {},
   "source": [
    "Sequence is a built-in DS that can be ordered and indexed. For Python, sequence can be seggregated in two ways:\n",
    "1. Flat and Container sequence \n",
    "2. Mutable and Immutable sequence "
   ]
  },
  {
   "cell_type": "markdown",
   "metadata": {},
   "source": [
    "## Flat & Container "
   ]
  },
  {
   "cell_type": "markdown",
   "metadata": {},
   "source": [
    "Container Sequence: The sequence can hold values of different types. This is done by holding a ref of the object they contain  \n",
    "Flat Sequence: The sequence contains a the real value in their built in memory, and stores only one type of value "
   ]
  },
  {
   "cell_type": "markdown",
   "metadata": {},
   "source": [
    "## Mutable & Immutable "
   ]
  },
  {
   "cell_type": "markdown",
   "metadata": {},
   "source": [
    "**Mutable**: The sequence size (in memory), is not fixed. It will adjust depending on how much you add/pop and update a current object/value in a particular index \n",
    "**Immutable**: Once the size is defined, you cannot change the value the sequence is holding and neither pop and add new values  "
   ]
  },
  {
   "cell_type": "markdown",
   "metadata": {},
   "source": [
    "# List Comprehension \n"
   ]
  },
  {
   "cell_type": "markdown",
   "metadata": {},
   "source": [
    "List comprehension is an approach of generating a list out of an Iterable object. This is then will be stored as a list  "
   ]
  },
  {
   "cell_type": "markdown",
   "metadata": {},
   "source": [
    "### Why list comprehension ?"
   ]
  },
  {
   "cell_type": "markdown",
   "metadata": {},
   "source": [
    "**Mainly** used to genereate a quick list out of 1 or 2 iterable objects. Compared to lambdas, it is much more **readable**. however, when the listcomp get super lenghthy, then opting for **for** loops or any other will be optimal"
   ]
  },
  {
   "cell_type": "code",
   "execution_count": null,
   "metadata": {},
   "outputs": [
    {
     "name": "stdout",
     "output_type": "stream",
     "text": [
      "[2, 3, 4, 5, 6, 7, 8, 9, 'J', 'Q', 'K', 'A']\n",
      "[36, 162, 163, 165, 8364, 164]\n",
      "[163, 165, 8364, 164]\n",
      "[('Heart', 2), ('Heart', 3), ('Heart', 4), ('Heart', 5), ('Heart', 6), ('Heart', 7), ('Heart', 8), ('Heart', 9), ('Heart', 'J'), ('Heart', 'Q'), ('Heart', 'K'), ('Heart', 'A'), ('Spades', 2), ('Spades', 3), ('Spades', 4), ('Spades', 5), ('Spades', 6), ('Spades', 7), ('Spades', 8), ('Spades', 9), ('Spades', 'J'), ('Spades', 'Q'), ('Spades', 'K'), ('Spades', 'A'), ('Clover', 2), ('Clover', 3), ('Clover', 4), ('Clover', 5), ('Clover', 6), ('Clover', 7), ('Clover', 8), ('Clover', 9), ('Clover', 'J'), ('Clover', 'Q'), ('Clover', 'K'), ('Clover', 'A'), ('Diamond', 2), ('Diamond', 3), ('Diamond', 4), ('Diamond', 5), ('Diamond', 6), ('Diamond', 7), ('Diamond', 8), ('Diamond', 9), ('Diamond', 'J'), ('Diamond', 'Q'), ('Diamond', 'K'), ('Diamond', 'A')]\n",
      "[('Heart', 2), ('Heart', 3), ('Heart', 4), ('Heart', 5), ('Heart', 6), ('Heart', 7), ('Heart', 8), ('Heart', 9), ('Spades', 2), ('Spades', 3), ('Spades', 4), ('Spades', 5), ('Spades', 6), ('Spades', 7), ('Spades', 8), ('Spades', 9), ('Clover', 2), ('Clover', 3), ('Clover', 4), ('Clover', 5), ('Clover', 6), ('Clover', 7), ('Clover', 8), ('Clover', 9), ('Diamond', 2), ('Diamond', 3), ('Diamond', 4), ('Diamond', 5), ('Diamond', 6), ('Diamond', 7), ('Diamond', 8), ('Diamond', 9)]\n"
     ]
    }
   ],
   "source": [
    "symbols = \"$¢£¥€¤\"\n",
    "list_1 = [\"Heart\", \"Spades\", \"Clover\", \"Diamond\"]\n",
    "list_2 = list(range(2,10) )+ list(\"JQKA\")\n",
    "print(list_2)\n",
    "## simple list comprehension \n",
    "list_comprehension_result = [ord(sym) for sym in symbols]\n",
    "# list comprehension with conditions \n",
    "list_comprehension_result_with_conditions = [ord(sym) for sym in symbols if ord(sym)>162]\n",
    "# you can also have a nested loop as well \n",
    "nested_list_comprehension_with_conditions = [(shape, value) for shape in list_1 for value in list_2 if type(value)==int]\n",
    "nested_list_comprehension = [(shape,value) for shape in list_1 for value in list_2 ]\n",
    "\n",
    "print(list_comprehension_result)\n",
    "print(list_comprehension_result_with_conditions)\n",
    "print(nested_list_comprehension)\n",
    "print(nested_list_comprehension_with_conditions)"
   ]
  },
  {
   "cell_type": "markdown",
   "metadata": {},
   "source": [
    "### Tips"
   ]
  },
  {
   "cell_type": "markdown",
   "metadata": {},
   "source": [
    "While writing a listcomp, you can jump to other lines if you want. This is a python feature. Whenever your expression is within **(), {} or []**. you can jump from line to another without having python complains during code execution "
   ]
  },
  {
   "cell_type": "code",
   "execution_count": null,
   "metadata": {},
   "outputs": [
    {
     "name": "stdout",
     "output_type": "stream",
     "text": [
      "[('Heart', 2), ('Heart', 3), ('Heart', 4), ('Heart', 5), ('Heart', 6), ('Heart', 7), ('Heart', 8), ('Heart', 9), ('Spades', 2), ('Spades', 3), ('Spades', 4), ('Spades', 5), ('Spades', 6), ('Spades', 7), ('Spades', 8), ('Spades', 9), ('Clover', 2), ('Clover', 3), ('Clover', 4), ('Clover', 5), ('Clover', 6), ('Clover', 7), ('Clover', 8), ('Clover', 9), ('Diamond', 2), ('Diamond', 3), ('Diamond', 4), ('Diamond', 5), ('Diamond', 6), ('Diamond', 7), ('Diamond', 8), ('Diamond', 9)]\n"
     ]
    }
   ],
   "source": [
    "list_1 = [\"Heart\", \"Spades\", \"Clover\", \"Diamond\"]\n",
    "list_2 = list(range(2,10) )+ list(\"JQKA\")\n",
    "nested_list_comprehension_with_conditions = [\n",
    "    (shape, value) \n",
    "    for shape in list_1 \n",
    "        for value in list_2 \n",
    "            if type(value)==int\n",
    "]\n",
    "print(nested_list_comprehension_with_conditions)"
   ]
  },
  {
   "cell_type": "markdown",
   "metadata": {},
   "source": [
    "### Warning"
   ]
  },
  {
   "cell_type": "markdown",
   "metadata": {},
   "source": [
    "For python version **lower than 3**, the scope of the local variable is not scoped within the **[]**. This can lead to unexpected behavior "
   ]
  },
  {
   "cell_type": "code",
   "execution_count": null,
   "metadata": {},
   "outputs": [
    {
     "name": "stdout",
     "output_type": "stream",
     "text": [
      "my precious\n",
      "['A', 'B', 'C']\n"
     ]
    }
   ],
   "source": [
    "x = \"my precious\"\n",
    "dummy = [x for x in \"ABC\"]\n",
    "print(x)\n",
    "print(dummy)\n",
    "\n",
    "## before 3.0, when you print x, you will get \"C\" instead of my precious"
   ]
  },
  {
   "cell_type": "markdown",
   "metadata": {},
   "source": [
    "List comprehensions, generator expressions, and their siblings set and dict\n",
    "comprehensions now have their own local scope, like functions. Variables\n",
    "assigned within the expression are local, but variables in the surrounding scope\n",
    "can still be referenced. Even better, the local variables do not mask the variables\n",
    "from the surrounding scope"
   ]
  },
  {
   "cell_type": "markdown",
   "metadata": {},
   "source": [
    "what is forgot ? for listcomp\n",
    "1. explain more the point on where not to use listcomp\n",
    "2. Leak on python 2.7. useless but cool \n",
    "3. what is the limit or how far whe should go until we opt for the loop kind of joing the first point \n",
    "4. Some tips \n",
    "5. why not lambdas "
   ]
  },
  {
   "cell_type": "markdown",
   "metadata": {},
   "source": [
    "# Generator Expression (genexps)"
   ]
  },
  {
   "cell_type": "markdown",
   "metadata": {},
   "source": [
    "genexps, like listcomps, helps you to build sequence objects like **tuple and arrays** from an **iterable** object "
   ]
  },
  {
   "cell_type": "markdown",
   "metadata": {},
   "source": [
    "#### Why ?"
   ]
  },
  {
   "cell_type": "markdown",
   "metadata": {},
   "source": [
    "Although we can use listcomps for the same purpose, genexps are **cheaper in resource** as it leverages **generator** object. \n",
    "For example, with listcomps, you need to the following to get a tuple:\n",
    "1. generate a list \n",
    "2. feed the list in a tuple \n",
    "    ```python\n",
    "    my_list = [lower(x) from x in \"skdjds\"]\n",
    "    mytuple = tuple(my_list)\n",
    "\n",
    "we need to store the list first, then provide the list to the tuple to generate the new variable.\n",
    "With genexps, it is difference:\n",
    "1. genexps will return a generator object,\n",
    "2. generator objet will return one element at a time\n",
    "3. the tuple( or any other sequence), will progressively add element and then the Sequence will instantited once the generator has nothing to **yield**\n",
    "    ```python \n",
    "    mytuple = (lower(x) from x in \"skdjkd\")\n",
    "\n"
   ]
  },
  {
   "cell_type": "markdown",
   "metadata": {},
   "source": [
    "# Tuple"
   ]
  },
  {
   "cell_type": "markdown",
   "metadata": {},
   "source": [
    "Tuple is a sequence that must be considered for two use cases\n",
    "1. Immutable List \n",
    "2. Records \n",
    "\n"
   ]
  },
  {
   "cell_type": "markdown",
   "metadata": {},
   "source": [
    "#### Records"
   ]
  },
  {
   "cell_type": "markdown",
   "metadata": {},
   "source": [
    "Given it is fixed sized, you can use it as a record without attributr name. \n",
    "```python \n",
    "myCoordinatesRecord = (20,90)\n",
    "```\n",
    "this can be pushed further by using namedspaced tuple, which is a subclass of tuple with attribute names. It is **Record** so no methods \n"
   ]
  },
  {
   "cell_type": "markdown",
   "metadata": {},
   "source": [
    "#### Why ?"
   ]
  },
  {
   "cell_type": "markdown",
   "metadata": {},
   "source": [
    "compared to a class, a namedtuple or tuple consumes same resources. and both are lower to a normal class, They use less memory than a regular object because they don’t\n",
    "store attributes in a per-instance __dict__."
   ]
  },
  {
   "cell_type": "markdown",
   "metadata": {},
   "source": [
    "## Slicing\n"
   ]
  },
  {
   "cell_type": "markdown",
   "metadata": {},
   "source": [
    "Slicing is a mechanism support by **all** sequences. This helps you to get chunk of you sequence given the following:\n",
    "1. Start point\n",
    "2. End point (index) that is not included \n",
    "3. Optional: the number of steps by default it is 1\n",
    "\n",
    "You need to call your sequence followed by [1:6:2] for example. This will get all the elements between the index 1 and 6 (excluded) while jumping by 2 steps. It would indices 1,3,5 "
   ]
  },
  {
   "cell_type": "code",
   "execution_count": null,
   "metadata": {},
   "outputs": [
    {
     "name": "stdout",
     "output_type": "stream",
     "text": [
      "['1909  Pimoroni PiBrella                 $17.50      3 $52.50', '1489  6mm Tactile Switch x20             $4.95      2 $9.90', '1510  Panavise Jr. - PV-201             $28.00      1 $28.00', '1601  PiTFT Mini Kit 320x240            $34.95      1 $34.95', '']\n",
      "Pimoroni PiBrella                  $17.50     \n",
      "6mm Tactile Switch x20              $4.95     \n",
      "Panavise Jr. - PV-201              $28.00     \n",
      "PiTFT Mini Kit 320x240             $34.95     \n",
      " \n"
     ]
    }
   ],
   "source": [
    "invoice = \"\"\"\n",
    "0.....6.................................40..........52...55........\n",
    "1909  Pimoroni PiBrella                 $17.50      3 $52.50\n",
    "1489  6mm Tactile Switch x20             $4.95      2 $9.90\n",
    "1510  Panavise Jr. - PV-201             $28.00      1 $28.00\n",
    "1601  PiTFT Mini Kit 320x240            $34.95      1 $34.95\n",
    "\"\"\"\n",
    "\n",
    "cleaned_str = invoice.split('\\n')[2:]\n",
    "print(cleaned_str)\n",
    "description_ = slice(6,40)\n",
    "price= slice(40,51)\n",
    "\n",
    "for str in cleaned_str:\n",
    "    print(str[description_], str[price])"
   ]
  },
  {
   "cell_type": "markdown",
   "metadata": {},
   "source": [
    "We want to show two things through the demo above:  \n",
    "1. the [start:end] returns a slice object. when you do list[start:end], the python interpreter will call list.__get_item__(slice(start,end))"
   ]
  },
  {
   "cell_type": "code",
   "execution_count": null,
   "metadata": {},
   "outputs": [
    {
     "name": "stdout",
     "output_type": "stream",
     "text": [
      "[0, 1, 2, 3, 4, 5, 6, 7, 8, 9]\n",
      "[2, 3, 4]\n",
      "[0, 1, 10, 11, 12, 5, 6, 7, 8, 9]\n",
      "[0, 1, 10, 11, 5, 6, 7, 8, 9]\n",
      "[0, 1, 10, 6, 7, 8, 9]\n",
      "[0, 1, 20, 6, 55, 8, 9]\n",
      "[0, 1, 20, 11, 22, 55, 88, 999, 66578]\n"
     ]
    }
   ],
   "source": [
    "l = list(range(10))\n",
    "print(l)\n",
    "print(l[2:5])\n",
    "\n",
    "l[2:5] = [10,11,12]\n",
    "print(l)\n",
    "l[2:5] = [10,11]\n",
    "print(l)\n",
    "## you can't do the following, you need to assign an iterable to this\n",
    "# My guess would be that the l[2:5] return by default a list,  need to keep the data type the same  \n",
    "##l[2:5] = 10\n",
    "\n",
    "# you can do this  instead \n",
    "l[2:5] = [10]\n",
    "print(l)\n",
    "\n",
    "# you cann add steps here too \n",
    "\n",
    "l[2:5:2] = [20,55]\n",
    "\n",
    "print(l)\n",
    "\n",
    "l = [0, 1, 20, 30, 5, 8, 9]\n",
    "## the one commented below does not work and returns the following \n",
    "# ValueError: attempt to assign sequence of size 3 to extended slice of size 2\n",
    "# l[3:7:2] = [11, 22,55]\n",
    "l[3:7] = [11, 22,55,88,999,66578]\n",
    "print(l)\n",
    "\n"
   ]
  },
  {
   "cell_type": "markdown",
   "metadata": {},
   "source": [
    "``` python\n",
    "l = [0, 1, 20, 30, 5, 8, 9]\n",
    "\n",
    "l[3:7:2] = [11, 22,55]\n",
    "\n",
    "l[3:7] = [11, 22,55,88,999,66578]\n",
    "```\n",
    "\n",
    "The second operation will lead to an error, because we are not slicing continuously like the one below. Therefore to fix it the number of elements that needs to replace the slicing needs to **be exactly equal to the number of elements of the slice**. "
   ]
  },
  {
   "cell_type": "markdown",
   "metadata": {},
   "source": [
    "## * and + with sequences "
   ]
  },
  {
   "cell_type": "markdown",
   "metadata": {},
   "source": [
    "these operators are used between two sequences to create **a new one**.  \n",
    "+ '+' is used for concatenation \n",
    "* '*' is used to multiply the number of elements inside the sequence "
   ]
  },
  {
   "cell_type": "code",
   "execution_count": null,
   "metadata": {},
   "outputs": [
    {
     "name": "stdout",
     "output_type": "stream",
     "text": [
      "[1, 2, 3, 1, 2, 3, 1, 2, 3, 1, 2, 3, 1, 2, 3]\n"
     ]
    }
   ],
   "source": [
    "l = [1, 2, 3]\n",
    "print(l*5)"
   ]
  },
  {
   "cell_type": "markdown",
   "metadata": {},
   "source": [
    "**WARNING** \n",
    "\n",
    "when the element inside the sequence is a mutable object, the copy of the elemens will be copy of the **reference** of that object. It means modifiying on element will modify the other \"copies\" as they are pointing to the same reference "
   ]
  },
  {
   "cell_type": "code",
   "execution_count": null,
   "metadata": {},
   "outputs": [
    {
     "data": {
      "text/plain": [
       "[['_', '_', 'O'], ['_', '_', 'O'], ['_', '_', 'O']]"
      ]
     },
     "execution_count": 25,
     "metadata": {},
     "output_type": "execute_result"
    }
   ],
   "source": [
    "weird_board = [['_'] * 3] * 3\n",
    "weird_board[1][2] = 'O'\n",
    "weird_board"
   ]
  },
  {
   "cell_type": "code",
   "execution_count": null,
   "metadata": {},
   "outputs": [
    {
     "data": {
      "text/plain": [
       "[['_', '_', '_'], ['_', '_', 'X'], ['_', '_', '_']]"
      ]
     },
     "execution_count": 26,
     "metadata": {},
     "output_type": "execute_result"
    }
   ],
   "source": [
    "normal_board = [ ['_']*3 for i in range(3)]\n",
    "normal_board[1][2] = 'X'\n",
    "normal_board"
   ]
  },
  {
   "cell_type": "markdown",
   "metadata": {},
   "source": [
    "The **+**, when using sequences will call the __iadd__ (in place appending) if the sequence is mutable (list) and __add__ (array or tuple) when the sequence is immutable"
   ]
  },
  {
   "cell_type": "code",
   "execution_count": null,
   "metadata": {},
   "outputs": [
    {
     "name": "stdout",
     "output_type": "stream",
     "text": [
      "139953154232960\n",
      "139953154232960\n"
     ]
    },
    {
     "data": {
      "text/plain": [
       "[1, 2, 3, 4]"
      ]
     },
     "execution_count": 6,
     "metadata": {},
     "output_type": "execute_result"
    }
   ],
   "source": [
    "# mutable example \n",
    "my_list = [1,2,3]\n",
    "print(id(my_list))\n",
    "my_list += [4]\n",
    "print(id(my_list))\n",
    "my_list\n",
    "\n",
    "# as you can see, the assignment will be in place as the id of the list did not change when we tried to extend "
   ]
  },
  {
   "cell_type": "code",
   "execution_count": null,
   "metadata": {},
   "outputs": [
    {
     "name": "stdout",
     "output_type": "stream",
     "text": [
      "139953153585248\n",
      "139953126284288\n"
     ]
    }
   ],
   "source": [
    "# immutable example \n",
    "\n",
    "my_tuple = tuple(  num for num in range(4))\n",
    "print(id(my_tuple))\n",
    "my_tuple += tuple((4,5))\n",
    "print(id(my_tuple))\n",
    "\n",
    "# the id of the tuple changes as we are using __add__ instead which return a new object isntead of the same one "
   ]
  },
  {
   "cell_type": "code",
   "execution_count": null,
   "metadata": {},
   "outputs": [
    {
     "ename": "TypeError",
     "evalue": "'tuple' object does not support item assignment",
     "output_type": "error",
     "traceback": [
      "\u001b[0;31m---------------------------------------------------------------------------\u001b[0m",
      "\u001b[0;31mTypeError\u001b[0m                                 Traceback (most recent call last)",
      "Cell \u001b[0;32mIn[19], line 2\u001b[0m\n\u001b[1;32m      1\u001b[0m t \u001b[38;5;241m=\u001b[39m (\u001b[38;5;241m1\u001b[39m, \u001b[38;5;241m2\u001b[39m, [\u001b[38;5;241m30\u001b[39m, \u001b[38;5;241m40\u001b[39m])\n\u001b[0;32m----> 2\u001b[0m \u001b[43mt\u001b[49m\u001b[43m[\u001b[49m\u001b[38;5;241;43m2\u001b[39;49m\u001b[43m]\u001b[49m \u001b[38;5;241m+\u001b[39m\u001b[38;5;241m=\u001b[39m [\u001b[38;5;241m50\u001b[39m, \u001b[38;5;241m60\u001b[39m]\n\u001b[1;32m      5\u001b[0m \u001b[38;5;66;03m# we will dispatch every step to understand why is it not working \u001b[39;00m\n",
      "\u001b[0;31mTypeError\u001b[0m: 'tuple' object does not support item assignment"
     ]
    }
   ],
   "source": [
    "t = (1, 2, [30, 40])\n",
    "t[2] += [50, 60]\n",
    "\n",
    "\n",
    "# we will dispatch every step to understand why is it not working "
   ]
  },
  {
   "cell_type": "markdown",
   "metadata": {},
   "source": [
    "1. we first we get the array [30,40]\n",
    "2. then we extend the array through the assignment operation \n",
    "3. Then, we need to re assign the same object to the tuple \n",
    "\n",
    "\n",
    "**Reassigning** will cause the error as we cannot re assign the value to a tuple even though it is the same. \n",
    "This can be inspected by going through the python bytecode \n",
    "\n",
    "**Warning** \n",
    "\n",
    "Although you get an error, when doing this operation, if you print the tuple then you will see that the extension of the list happened LOOK below\n",
    "\n"
   ]
  },
  {
   "cell_type": "code",
   "execution_count": null,
   "metadata": {},
   "outputs": [
    {
     "data": {
      "text/plain": [
       "(1, 2, [30, 40, 50, 60])"
      ]
     },
     "execution_count": 20,
     "metadata": {},
     "output_type": "execute_result"
    }
   ],
   "source": [
    "t"
   ]
  },
  {
   "cell_type": "markdown",
   "metadata": {},
   "source": [
    "## Sorting"
   ]
  },
  {
   "cell_type": "markdown",
   "metadata": {},
   "source": [
    "To sort a sequence you have two approaches \n",
    "\n",
    "1. built in **sort()** method. This method will sort the sequence in place. Only available for mutable sequences (list)\n",
    "2. build in **sorted()** function. This method will the sort the sequence and return a new object (not in place). Available for ITER objects\n",
    "\n",
    "when using those utility methods, you can precise\n",
    "1. the sorting criterion, for example for string do you want to sort based on length, or based on lower case of the string. You need to add the **key** parameter in the helper function. It is a one argument function that will be applied for each element before sorting    \n",
    "2. the order, ascending or descending by using the parameter **reverse** in the helper function. asc by default "
   ]
  },
  {
   "cell_type": "markdown",
   "metadata": {},
   "source": [
    "## Bisect"
   ]
  },
  {
   "cell_type": "markdown",
   "metadata": {},
   "source": [
    "This module is applied for Sorted sequences (verify if it is only for list or not). \n",
    "\n",
    "1. bisect.bisect or bisect.bisect_left will give you the index in which you can insert an element while keeping the sorted sequence sorted.\n",
    "    * The difference between bisect and bisect_left is the index value returned when the element passed to the function is present in your sequence. For example you have 3 as input for the following list [1,3,4,5]. bisect will return you 1 and bisect_left will return you 2\n",
    "2. bisect.insort_right or bisect.insort_left, will insert the new element to the sequence and they have the same difference as the first point "
   ]
  },
  {
   "cell_type": "code",
   "execution_count": null,
   "metadata": {},
   "outputs": [],
   "source": [
    "from bisect import bisect,bisect_left,insort_left, insort_right"
   ]
  },
  {
   "cell_type": "markdown",
   "metadata": {},
   "source": [
    "## Arrays"
   ]
  },
  {
   "cell_type": "markdown",
   "metadata": {},
   "source": [
    "An array is useful when you know you are holding one type of data. It is faster than list when it comes to reading and writing the values to a file and popping and appending elements from the sequence . It also stores the bytecode of each element directly rather the object representing the element.\n",
    "\n",
    "For example    \n",
    "my_list = [0.0 , 1.0, 2.0] here the list will have a reference to the Float object    \n",
    "my_arr = array.array('f', [0.0 , 1.0, 2.0]) here the array will store the bytecode representation of the float number "
   ]
  },
  {
   "cell_type": "markdown",
   "metadata": {},
   "source": [
    "## MemoryView"
   ]
  },
  {
   "cell_type": "markdown",
   "metadata": {},
   "source": [
    "MemoryView is a share-memory sequence that let you have a representation of a sequence without copying the object.\n",
    "It is useful, when you want to cast the type of an array Or change the representation of the object while keeping the bits intact "
   ]
  },
  {
   "cell_type": "code",
   "execution_count": 29,
   "metadata": {},
   "outputs": [
    {
     "name": "stdout",
     "output_type": "stream",
     "text": [
      "[254, 255, 255, 255, 0, 0, 1, 0, 2, 0]\n"
     ]
    }
   ],
   "source": [
    "import array\n",
    "\n",
    "numbers = array.array('h',[-2, -1, 0, 1, 2])\n",
    "\n",
    "memv = memoryview(numbers)\n",
    "len(memv)\n",
    "memv_oct = memv.cast('B')\n",
    "print(memv_oct.tolist())\n"
   ]
  },
  {
   "cell_type": "markdown",
   "metadata": {},
   "source": [
    "let's breakdown the code above \n",
    "1. we build a memoryview object by feeding it an array \n",
    "2. this memoryview is then caster to 'B'. Initially we have an array where each value is repesented by 2 bytes. The caster memoryview, will cast the 2 byte representationo to one byte representation \n",
    "3. that is why, the lenght doubled. For each element  we break down the 2 byte to two 1 byte data. Therefore we go from 5 elements to 10 elements"
   ]
  },
  {
   "cell_type": "code",
   "execution_count": 30,
   "metadata": {},
   "outputs": [
    {
     "data": {
      "text/plain": [
       "array('h', [-2, -1, 1024, 1, 2])"
      ]
     },
     "execution_count": 30,
     "metadata": {},
     "output_type": "execute_result"
    }
   ],
   "source": [
    "memv_oct[5] = 4  \n",
    "numbers"
   ]
  },
  {
   "cell_type": "markdown",
   "metadata": {},
   "source": [
    "Why the third element changed you might ask?\n",
    "\n",
    "The reason is the following, when we changed the fifth element from 0 to 4, we have a new byte representation of the array. Because we also modified one fragment of the 2 Byte representation of the number 0 in the third element"
   ]
  },
  {
   "cell_type": "markdown",
   "metadata": {},
   "source": [
    "## Queue & Dequeue"
   ]
  },
  {
   "cell_type": "markdown",
   "metadata": {},
   "source": [
    "Queue is a DS used specifcally for popping and appending element efficently, without having to re-index the sequece from scratch which is the case of lists or arrays. You can also rotate elements without having the problem of reindexing as well. \n",
    "\n",
    "The shortcoming of this DS, is you cannot change an element by index in O(1) Time complexity \n",
    "\n",
    "the difference between Q and DQ is the direction of appending and popping. DQ can be done both ways (right and left). You can precise the max length of the Q. As a result, when you add an element, on one end (right) and the length is already at it max, the DQ will the value on the other end (left)\n",
    "\n",
    "The class collections.deque is thread-safe "
   ]
  },
  {
   "cell_type": "code",
   "execution_count": null,
   "metadata": {},
   "outputs": [
    {
     "name": "stdout",
     "output_type": "stream",
     "text": [
      "deque([0, 1, 2, 3, 4, 5, 6, 7, 8], maxlen=10)\n",
      "deque([0, 1, 2, 3, 4, 5, 6, 7, 8, 9], maxlen=10)\n",
      "deque([1, 2, 3, 4, 5, 6, 7, 8, 9, 10], maxlen=10)\n"
     ]
    }
   ],
   "source": [
    "from collections import deque\n",
    "\n",
    "my_q = deque([0,1,2,3,4,5,6,7,8],maxlen=10)\n",
    "print(my_q)\n",
    "my_q.append(9)\n",
    "print(my_q)\n",
    "my_q.append(10)\n",
    "print(my_q)\n"
   ]
  },
  {
   "cell_type": "code",
   "execution_count": null,
   "metadata": {},
   "outputs": [
    {
     "name": "stdout",
     "output_type": "stream",
     "text": [
      "deque([8, 9, 10, 1, 2, 3, 4, 5, 6, 7], maxlen=10)\n",
      "deque([1, 2, 3, 4, 5, 6, 7, 8, 9, 10], maxlen=10)\n"
     ]
    }
   ],
   "source": [
    "my_q.rotate(3)\n",
    "# 8 9 10 1 2 3 4 5 6 7\n",
    "print(my_q)\n",
    "my_q.rotate(-3)\n",
    "# 1 2 3 4 5 6 7 8 9 10\n",
    "print(my_q)"
   ]
  },
  {
   "cell_type": "code",
   "execution_count": 37,
   "metadata": {},
   "outputs": [
    {
     "name": "stdout",
     "output_type": "stream",
     "text": [
      "deque([4, 5, 6, 7, 8, 9, 10, 11, 12, 13], maxlen=10)\n"
     ]
    }
   ],
   "source": [
    "my_q.extend([11,12,13])\n",
    "print(my_q)\n",
    "# 4 5 6 7 8 9 10 11 12 13"
   ]
  },
  {
   "cell_type": "code",
   "execution_count": 38,
   "metadata": {},
   "outputs": [
    {
     "name": "stdout",
     "output_type": "stream",
     "text": [
      "deque([1, 2, 3, 4, 5, 6, 7, 8, 9, 10], maxlen=10)\n"
     ]
    }
   ],
   "source": [
    "# this one needs to taken with attention \n",
    "# when you extend left, it will start adding from the list one by one from the left to right \n",
    "# as a result the last appearing number in the list will be the first one in the q\n",
    "\n",
    "my_q.extendleft([3,2,1])\n",
    "# 1 2 3 4 5 6 7 8 9 10\n",
    "# NOT 3 2 1 4 5 6 7 8 9 10\n",
    "print(my_q)"
   ]
  },
  {
   "cell_type": "markdown",
   "metadata": {},
   "source": [
    "What needs to be added\n",
    "binary index search/insert \n",
    "arrays \n",
    "    when to use it \n",
    "    why using it \n",
    "Numpy/SciPy\n",
    "MemoryView\n"
   ]
  },
  {
   "cell_type": "markdown",
   "metadata": {},
   "source": []
  }
 ],
 "metadata": {
  "kernelspec": {
   "display_name": "fluentPythonEnv",
   "language": "python",
   "name": "python3"
  },
  "language_info": {
   "codemirror_mode": {
    "name": "ipython",
    "version": 3
   },
   "file_extension": ".py",
   "mimetype": "text/x-python",
   "name": "python",
   "nbconvert_exporter": "python",
   "pygments_lexer": "ipython3",
   "version": "3.10.12"
  }
 },
 "nbformat": 4,
 "nbformat_minor": 2
}

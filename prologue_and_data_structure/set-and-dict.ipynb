{
 "cells": [
  {
   "cell_type": "markdown",
   "metadata": {},
   "source": [
    "# Dictonnary & Sets"
   ]
  },
  {
   "cell_type": "markdown",
   "metadata": {},
   "source": [
    "## Dictonary"
   ]
  },
  {
   "cell_type": "markdown",
   "metadata": {},
   "source": [
    "A dictionary also called dictionay, is mutable DS that let you store key values. It inherits from the following ABC. Keys must be Hashable "
   ]
  },
  {
   "cell_type": "markdown",
   "metadata": {
    "slideshow": {
     "slide_type": "notes"
    }
   },
   "source": [
    "![image.png](/home/akallel/labs/fluent_python/Dictonnary_Inheritence.png)"
   ]
  },
  {
   "cell_type": "code",
   "execution_count": null,
   "metadata": {},
   "outputs": [
    {
     "name": "stdout",
     "output_type": "stream",
     "text": [
      "True\n",
      "True\n"
     ]
    }
   ],
   "source": [
    "from collections import UserDict\n",
    "from collections.abc import Mapping, MutableMapping, Iterable, Container, Sized\n",
    "\n",
    "normal_dict = {}\n",
    "\n",
    "print(isinstance(normal_dict,Mapping))\n",
    "print(isinstance(normal_dict, MutableMapping))"
   ]
  },
  {
   "cell_type": "markdown",
   "metadata": {},
   "source": [
    "**Warning** \n",
    "\n",
    "This dict does not inherit **directly** from MutableMapping"
   ]
  },
  {
   "cell_type": "markdown",
   "metadata": {},
   "source": [
    "## What is Hashable in python ? "
   ]
  },
  {
   "cell_type": "markdown",
   "metadata": {},
   "source": [
    "A Hashable, is any immutable built in types like (str, number). \n",
    "\n",
    "However bear in mind immutable type like tuple must hold immutable type otherwise it cannot be hashed "
   ]
  },
  {
   "cell_type": "code",
   "execution_count": 62,
   "metadata": {},
   "outputs": [
    {
     "name": "stdout",
     "output_type": "stream",
     "text": [
      "22\n",
      "4533385495509777328\n",
      "-4363729961677198915\n"
     ]
    },
    {
     "ename": "TypeError",
     "evalue": "unhashable type: 'list'",
     "output_type": "error",
     "traceback": [
      "\u001b[0;31m---------------------------------------------------------------------------\u001b[0m",
      "\u001b[0;31mTypeError\u001b[0m                                 Traceback (most recent call last)",
      "Cell \u001b[0;32mIn[62], line 8\u001b[0m\n\u001b[1;32m      6\u001b[0m \u001b[38;5;28mprint\u001b[39m(\u001b[38;5;28mhash\u001b[39m(my_t))\n\u001b[1;32m      7\u001b[0m my_unhashble_t \u001b[38;5;241m=\u001b[39m (\u001b[38;5;241m1\u001b[39m,\u001b[38;5;241m2\u001b[39m,[\u001b[38;5;241m1\u001b[39m,\u001b[38;5;241m2\u001b[39m,\u001b[38;5;241m3\u001b[39m])\n\u001b[0;32m----> 8\u001b[0m \u001b[38;5;28mprint\u001b[39m(\u001b[38;5;28;43mhash\u001b[39;49m\u001b[43m(\u001b[49m\u001b[43mmy_unhashble_t\u001b[49m\u001b[43m)\u001b[49m)\n",
      "\u001b[0;31mTypeError\u001b[0m: unhashable type: 'list'"
     ]
    }
   ],
   "source": [
    "some_num = 22 \n",
    "some_str = \"dasjdklsakj\"\n",
    "my_t = (1,2,4)\n",
    "print(hash(some_num))\n",
    "print(hash(some_str))\n",
    "print(hash(my_t))\n",
    "my_unhashble_t = (1,2,[1,2,3])\n",
    "print(hash(my_unhashble_t))"
   ]
  },
  {
   "cell_type": "markdown",
   "metadata": {},
   "source": [
    "## What Dictonnary comprehension "
   ]
  },
  {
   "cell_type": "markdown",
   "metadata": {},
   "source": [
    "dictcomp is like listcomp, it lets you build a dic in very quick manner from an **Iterable** Object "
   ]
  },
  {
   "cell_type": "code",
   "execution_count": 79,
   "metadata": {},
   "outputs": [
    {
     "name": "stdout",
     "output_type": "stream",
     "text": [
      "{'CHINA': 86, 'INDIA': 91, 'INDONESIA': 62, 'BRAZIL': 55, 'PAKISTAN': 92, 'BANGLADESH': 880, 'NIGERIA': 234, 'JAPAN': 81}\n",
      "{86: 'CHINA', 91: 'INDIA', 62: 'INDONESIA', 55: 'BRAZIL', 92: 'PAKISTAN', 880: 'BANGLADESH', 234: 'NIGERIA', 81: 'JAPAN'}\n",
      "{'CHINA': 86, 'INDIA': 91, 'PAKISTAN': 92, 'BANGLADESH': 880, 'NIGERIA': 234, 'JAPAN': 81}\n"
     ]
    }
   ],
   "source": [
    "DIAL_CODES = [\n",
    " (86, 'China'),\n",
    " (91, 'India'),\n",
    " (1, 'United States'),\n",
    " (62, 'Indonesia'),\n",
    " (55, 'Brazil'),\n",
    " (92, 'Pakistan'),\n",
    " (880, 'Bangladesh'),\n",
    " (234, 'Nigeria'),\n",
    " (7, 'Russia'),\n",
    " (81, 'Japan'),\n",
    "]\n",
    "\n",
    "\n",
    "my_country_dic = { country.upper():code  for code, country in DIAL_CODES if code>10}\n",
    "print(my_country_dic)\n",
    "\n",
    "my_dicomp_from_dic = { my_country_dic[country]:country for country in my_country_dic.keys()}\n",
    "print(my_dicomp_from_dic)\n",
    "\n",
    "# list_comp = [type(keyvalue)for keyvalue in my_country_dic.items()]\n",
    "another_dictcomp = {country:code for country , code in my_country_dic.items() if code > 80}\n",
    "print(another_dictcomp)\n",
    "# print(list_comp)\n",
    "# print(my_country_dic.keys())"
   ]
  },
  {
   "cell_type": "markdown",
   "metadata": {},
   "source": [
    "## Update Method in Dict"
   ]
  },
  {
   "cell_type": "markdown",
   "metadata": {},
   "source": [
    "When using update method on a dict 2 things happen:\n",
    "\n",
    "1. If the arg is a dict, then it will update the key(s) with the value(s) provided \n",
    "2. If not then, the arg must be an iterable holding (key, value) pair(s)\n",
    "\n",
    "**Warning**\n",
    "\n",
    "When the iterable is a tuple, then we need to be extra careful if it contains **1 pair** "
   ]
  },
  {
   "cell_type": "code",
   "execution_count": null,
   "metadata": {},
   "outputs": [
    {
     "name": "stdout",
     "output_type": "stream",
     "text": [
      "(('c', 'bouk'),)\n",
      "('c', 'bouk')\n"
     ]
    }
   ],
   "source": [
    "\n",
    "nested_tuple = tuple(((\"c\", \"bouk\"),))\n",
    "no_nested_tuple = tuple(((\"c\", \"bouk\")))\n",
    "\n",
    "print(nested_tuple)         \n",
    "print(no_nested_tuple)"
   ]
  },
  {
   "cell_type": "code",
   "execution_count": 42,
   "metadata": {},
   "outputs": [
    {
     "name": "stdout",
     "output_type": "stream",
     "text": [
      "2\n",
      "{'a': 1, 'b': 'omok', 'c': 'bouk'}\n"
     ]
    }
   ],
   "source": [
    "\n",
    "my_dic = {\"a\":1, \"b\":2, \"c\":3}\n",
    "\n",
    "my_dic.update({\"b\" :\"omok\"})\n",
    "my_dic.update([(\"c\", \"bouk\")])\n",
    "\n",
    "## the line below does not work because the tuple will put the depth to 0 whenever, there is only 1 nested tuple wihtout \",\"\n",
    "# my_dic.update(((\"c\", \"bouk\")))\n",
    "# therefore you are passing to update a tuple (\"b\", \"omok\") insteaad of ((\"b\", \"omok\"))\n",
    "# to force it to work that way you need to make sure you create your tuple like below \n",
    "my_dic.update(((\"c\", \"bouk\"),))\n",
    "# my_dic.update(tuple((\"c\", \"bouk\"))) \n",
    "\n",
    "print(len((\"c\", \"bouk\")))\n",
    "\n",
    "print(my_dic)       "
   ]
  },
  {
   "cell_type": "markdown",
   "metadata": {},
   "source": [
    "## How to deal with non-existant keys with dict ?"
   ]
  },
  {
   "cell_type": "markdown",
   "metadata": {},
   "source": [
    "### Setdefault"
   ]
  },
  {
   "cell_type": "markdown",
   "metadata": {},
   "source": [
    "To deal effectively with non exsitant keys in a dict, you can use **setdefault(key, default_value)** built-in methods. This what it does \n",
    "\n",
    "1. check if the key exist \n",
    "    * yes, then return the value \n",
    "    * no, then a new key will be added with **default_value** and the **default_value** will be returned by the method "
   ]
  },
  {
   "cell_type": "code",
   "execution_count": null,
   "metadata": {},
   "outputs": [
    {
     "name": "stdout",
     "output_type": "stream",
     "text": [
      "the value does not exist 'c'\n",
      "3\n",
      "{'a': 1, 'b': 2, 'c': 3}\n"
     ]
    }
   ],
   "source": [
    "## Example of non existant key \n",
    "\n",
    "my_dict_1 = {\"a\":1, \"b\":2}\n",
    "\n",
    "try:\n",
    "    print(my_dict_1[\"c\"])\n",
    "except Exception as e:\n",
    "    print(f\"the value does not exist {e}\")\n",
    "\n",
    "# Example on how to use setdefault \n",
    "\n",
    "print(my_dict_1.setdefault(\"c\", 3))\n",
    "print(my_dict_1)\n"
   ]
  },
  {
   "cell_type": "markdown",
   "metadata": {},
   "source": [
    "This method is efficient when it comes to setting a key for non existent value. In normal circustances you need to the following \n",
    "\n"
   ]
  },
  {
   "cell_type": "code",
   "execution_count": 90,
   "metadata": {},
   "outputs": [
    {
     "name": "stdout",
     "output_type": "stream",
     "text": [
      "{'a': 1, 'b': 2}\n",
      "{'a': 1, 'b': 2, 'c': 4}\n"
     ]
    }
   ],
   "source": [
    "my_dict_1 = {\"a\":1, \"b\":2}\n",
    "\n",
    "print(my_dict_1)\n",
    "\n",
    "if \"c\" not in my_dict_1:\n",
    "    my_dict_1[\"c\"] = 4\n",
    "\n",
    "print(my_dict_1)\n",
    "\n",
    "## less syntax \n",
    "#setdefault does it all with a single lookup.\n",
    "\n"
   ]
  },
  {
   "cell_type": "code",
   "execution_count": 80,
   "metadata": {},
   "outputs": [],
   "source": [
    "my_dic.setdefault(\"d\",[]).append(1)"
   ]
  },
  {
   "cell_type": "code",
   "execution_count": 44,
   "metadata": {},
   "outputs": [
    {
     "data": {
      "text/plain": [
       "{'a': 1, 'b': 'omok', 'c': 'bouk', 'd': [1]}"
      ]
     },
     "execution_count": 44,
     "metadata": {},
     "output_type": "execute_result"
    }
   ],
   "source": [
    "my_dic"
   ]
  },
  {
   "cell_type": "markdown",
   "metadata": {},
   "source": [
    "### Defaultdict"
   ]
  },
  {
   "cell_type": "markdown",
   "metadata": {},
   "source": [
    "Another way to perform a lookup on a key in which we are not sure if it is present or not is through **defaultdict**.\n",
    "\n",
    "When you initialise this DS, you need to provide a default **CALLABLE** like\n",
    "* list \n",
    "* int \n",
    "* tuple\n",
    "* or other callable\n",
    "\n",
    "you should add like: 1 or 1.0 or \"ddhasdkjj\" \n",
    "\n",
    "Once the callable is provide the defaultdict will do the following:\n",
    "1. Set default_factory (it is an instance attribute) to the callble \n",
    "2. Once if you look on key through __getitem__ dunder (my_dict[key])  \n",
    "    1. if the key does not exist, __getitem__ will call __missing__, which it will add the key where the value is an instance of the **default_factory**\n",
    "\n",
    "\n",
    "<span style=\"color:red\">Warning</span>\n",
    " \n",
    "```python \n",
    "my_dict.get(key) \n",
    "```\n",
    "will return **ALWAYS** None. because it does not use the __getitem__"
   ]
  },
  {
   "cell_type": "code",
   "execution_count": null,
   "metadata": {},
   "outputs": [
    {
     "name": "stdout",
     "output_type": "stream",
     "text": [
      "You should pass a callable first argument must be callable or None\n"
     ]
    }
   ],
   "source": [
    "# WHAT NO TO DO \n",
    "\n",
    "from collections import defaultdict\n",
    "\n",
    "# my_default_dict =  defaultdict(1)\n",
    "\n",
    "try: \n",
    "    my_default_dict =  defaultdict(1)\n",
    "    # this one does not work for you reference \n",
    "    # my_default_dict =  defaultdict(\"1\")\n",
    "except TypeError as e :\n",
    "    print(f\"You should pass a callable {e}\")\n"
   ]
  },
  {
   "cell_type": "code",
   "execution_count": 106,
   "metadata": {},
   "outputs": [
    {
     "name": "stdout",
     "output_type": "stream",
     "text": [
      "[1]\n",
      "[]\n",
      "defaultdict(<class 'list'>, {'omok': [1], 'bouk': []})\n"
     ]
    }
   ],
   "source": [
    "# WHAT TO DO \n",
    "\n",
    "from collections import defaultdict\n",
    "\n",
    "my_new_dic = defaultdict(list)\n",
    "\n",
    "my_new_dic[\"omok\"].append(1)\n",
    "\n",
    "print(my_new_dic[\"omok\"])\n",
    "print(my_new_dic[\"bouk\"])\n",
    "print(my_new_dic)"
   ]
  },
  {
   "cell_type": "code",
   "execution_count": 108,
   "metadata": {},
   "outputs": [
    {
     "name": "stdout",
     "output_type": "stream",
     "text": [
      "0.0\n",
      "0.0\n",
      "defaultdict(<class 'float'>, {'omok': 0.0, 'bouk': 0.0})\n"
     ]
    }
   ],
   "source": [
    "# for numerical values you can use the following \n",
    "\n",
    "from collections import defaultdict\n",
    "\n",
    "my_new_dic = defaultdict(float)\n",
    "\n",
    "# my_new_dic[\"omok\"].append(1)\n",
    "\n",
    "print(my_new_dic[\"omok\"])\n",
    "print(my_new_dic[\"bouk\"])\n",
    "print(my_new_dic)"
   ]
  },
  {
   "cell_type": "markdown",
   "metadata": {},
   "source": [
    "### Extend the dict class "
   ]
  },
  {
   "cell_type": "markdown",
   "metadata": {},
   "source": [
    "the __missing__ is not part of the dict native object, but you can extend the dict class to include it and other things:\n",
    "\n",
    "1. have a default value \n",
    "2. convert a key to a string if not found "
   ]
  },
  {
   "cell_type": "code",
   "execution_count": 156,
   "metadata": {},
   "outputs": [],
   "source": [
    "class StrKeyDict0(dict):\n",
    "    \n",
    "    # this one call the partent __getitem__() \n",
    "    # def __getitem__(self, key):\n",
    "    #     return super().__getitem__(key)\n",
    "    \n",
    "    ## this will create a stack overflow as the self[key] will call __getitem__ which will call self[key] etc....\n",
    "    # def __getitem__(self, key):\n",
    "    #     return self[key]\n",
    "    \n",
    "    # this one is an alternative \n",
    "    # def __getitem__(self, key):\n",
    "    #     # we want to check if key exist if not stringified and then look for it \n",
    "    #     # if both cases fails then raise a KeyError\n",
    "    #     normal_get = self.get(key, None)\n",
    "    #     str_get = self.get(str(key), None)\n",
    "\n",
    "    #     if normal_get:\n",
    "    #         return normal_get\n",
    "    #     elif str_get:\n",
    "    #         return str_get\n",
    "        \n",
    "    #     raise KeyError(key)\n",
    "    \n",
    "    # def get(self, key, default_value):\n",
    "\n",
    "    def __missing__(self,key):\n",
    "        if isinstance(key,str):\n",
    "            raise KeyError\n",
    "        return self[str(key)]\n",
    "\n",
    "    def get(self, key, default_value):\n",
    "        try:\n",
    "            self[key]\n",
    "        except KeyError as e:\n",
    "            return default_value\n",
    "\n",
    "    def __contains__(self, key):\n",
    "        return key in self.keys() or str(key) in self.keys()\n",
    "\n",
    " \n",
    "    \n",
    "    \n",
    "    \n"
   ]
  },
  {
   "cell_type": "code",
   "execution_count": 157,
   "metadata": {},
   "outputs": [],
   "source": [
    "test = StrKeyDict0(([('2', 'two'), ('4', 'four')]))"
   ]
  },
  {
   "cell_type": "code",
   "execution_count": 161,
   "metadata": {},
   "outputs": [
    {
     "name": "stdout",
     "output_type": "stream",
     "text": [
      "four\n",
      "four\n"
     ]
    }
   ],
   "source": [
    "print(test[4])\n",
    "# print(test[3])\n",
    "print(test[\"4\"])"
   ]
  },
  {
   "cell_type": "markdown",
   "metadata": {},
   "source": [
    "\n",
    "\n",
    "Take a moment to consider why the test isinstance(key, str) is\n",
    "necessary in the __missing__ implementation.\n",
    "\n",
    "Without that test, our __missing__ method would work OK for any\n",
    "key k—str or not str—whenever str(k) produced an existing key.\n",
    "But if str(k) is not an existing key, we’d have an infinite recursion.\n",
    "The last line, self[str(key)] would call __getitem__ passing that\n",
    "str key, which in turn would call __missing__ again.\n",
    "\n",
    "The __contains__ method is also needed for consistent behavior in\n",
    "this example, because the operation k in d calls it, but the method\n",
    "inherited from dict does not fall back to invoking __missing__.\n",
    "There is a subtle detail in our implementation of __contains__: we\n",
    "do not check for the key in the usual Pythonic way—k in my_dict—\n",
    "because str(key) in self would recursively call __contains__.\n",
    "We avoid this by explicitly looking up the key in self.keys()."
   ]
  },
  {
   "cell_type": "markdown",
   "metadata": {},
   "source": [
    "A search like k in my_dict.keys() is efficient in Python 3 even for very\n",
    "large mappings because dict.keys() returns a view, which is similar to a\n",
    "set, and containment checks in sets are as fast as in dictionaries. Details\n",
    "are documented in the “Dictionary” view objects section of the\n",
    "documentation. In Python 2, dict.keys() returns a list, so our solution\n",
    "also works there, but it is not efficient for large dictionaries, because k in\n",
    "my_list must scan the list."
   ]
  },
  {
   "cell_type": "markdown",
   "metadata": {},
   "source": [
    "### Variations of dict"
   ]
  },
  {
   "cell_type": "markdown",
   "metadata": {},
   "source": [
    "In this section, we summarize the various mapping types included in\n",
    "the collections module of the standard library, besides\n",
    "defaultdict:\n",
    "\n",
    "collections.OrderedDict\n",
    "\n",
    "Maintains keys in insertion order, allowing iteration over items in\n",
    "a predictable order. The popitem method of an OrderedDict pops\n",
    "the first item by default, but if called as\n",
    "my_odict.popitem(last=True), it pops the last item added.\n",
    "\n",
    "collections.ChainMap\n",
    "\n",
    "Holds a list of mappings that can be searched as one. The lookup is\n",
    "performed on each mapping in order, and succeeds if the key is\n",
    "found in any of them. This is useful to interpreters for languages\n",
    "with nested scopes, where each mapping represents a scope\n",
    "context. The “ChainMap objects” section of the collections docs\n",
    "has several examples of ChainMap usage, including this snippet\n",
    "inspired by the basic rules of variable lookup in Python:\n",
    "\n",
    "```python \n",
    "import builtins\n",
    "pylookup = ChainMap(locals(), globals(), vars(builtins))\n",
    "\n",
    "```\n",
    "collections.Counter\n",
    "\n",
    "A mapping that holds an integer count for each key. Updating an\n",
    "existing key adds to its count. This can be used to count instances\n",
    "of hashable objects (the keys) or as a multiset—a set that can hold\n",
    "several occurrences of each element. Counter implements the +\n",
    "and - operators to combine tallies, and other useful methods such\n",
    "as most_common([n]), which returns an ordered list of tuples\n",
    "with the n most common items and their counts; see the\n",
    "documentation. Here is Counter used to count letters in words:\n",
    "\n",
    "```python\n",
    ">>> ct = collections.Counter('abracadabra')\n",
    ">>> ct\n",
    "Counter({'a': 5, 'b': 2, 'r': 2, 'c': 1, 'd': 1})\n",
    ">>> ct.update('aaaaazzz')\n",
    ">>> ct\n",
    "Counter({'a': 10, 'z': 3, 'b': 2, 'r': 2, 'c': 1, 'd': 1})\n",
    ">>> ct.most_common(2)\n",
    "[('a', 10), ('z', 3)]\n",
    "\n",
    "```\n",
    "\n",
    "collections.UserDict\n",
    "A pure Python implementation of a mapping that works like a\n",
    "standard dict.\n",
    "While OrderedDict, ChainMap, and Counter come ready to use,\n",
    "UserDict is designed to be subclassed, as we’ll do next."
   ]
  },
  {
   "cell_type": "markdown",
   "metadata": {},
   "source": []
  },
  {
   "cell_type": "markdown",
   "metadata": {},
   "source": [
    "### User Dict"
   ]
  },
  {
   "cell_type": "markdown",
   "metadata": {},
   "source": [
    "UserDict is **better** alternative when it comes writing your own dictonnary class. "
   ]
  },
  {
   "cell_type": "markdown",
   "metadata": {},
   "source": []
  },
  {
   "cell_type": "code",
   "execution_count": 162,
   "metadata": {},
   "outputs": [],
   "source": [
    "from collections import UserDict\n",
    "\n",
    "class MyDict(UserDict):\n",
    "    def __missing__(self, key):\n",
    "        if(isinstance(key,str)):\n",
    "            raise KeyError\n",
    "        # forgot the str\n",
    "        return self.data[str(key)]\n",
    "    \n",
    "    # def get(self,key,default = None):\n",
    "    #     # check if it exists otherwise return default\n",
    "    #     try: \n",
    "    #         return self.data[key]\n",
    "    #     except KeyError:\n",
    "    #         return default\n",
    "\n",
    "    def __contains__(self, key):\n",
    "        # no need to do this as self.data is a dict therefore it will do itself\n",
    "        # return key in self.data.keys()\n",
    "        return key in self.data\n",
    "    \n",
    "    def __setitem__(self, key, item):\n",
    "        self.data[str(key)] = item \n"
   ]
  },
  {
   "cell_type": "markdown",
   "metadata": {},
   "source": [
    "Because UserDict subclasses MutableMapping, the remaining\n",
    "methods that make StrKeyDict a full-fledged mapping are inherited\n",
    "from UserDict, MutableMapping, or Mapping. The latter have\n",
    "several useful concrete methods, in spite of being abstract base classes\n",
    "(ABCs). The following methods are worth noting:\n",
    "\n",
    "MutableMapping.update\n",
    "\n",
    "This powerful method can be called directly but is also used by\n",
    "__init__ to load the instance from other mappings, from iterables\n",
    "of (key, value) pairs, and keyword arguments. Because it uses\n",
    "self[key] = value to add items, it ends up calling our\n",
    "implementation of __setitem__.\n",
    "\n",
    "\n",
    "Mapping.get\n",
    "\n",
    "In StrKeyDict0 (Example 3-7), we had to code our own get to\n",
    "obtain results consistent with __getitem__, but in Example 3-8\n",
    "we inherited Mapping.get, which is implemented exactly like\n",
    "StrKeyDict0.get (see Python source code)"
   ]
  },
  {
   "cell_type": "markdown",
   "metadata": {},
   "source": [
    "## Immutable Mapping"
   ]
  },
  {
   "cell_type": "markdown",
   "metadata": {},
   "source": [
    "Why Immutabe Mapping?\n",
    "\n",
    "In some case, you might need to provide a dictionnary with read-only functionality so that you are sure there would not be any accidental modifications.   \n",
    "That's where **MappingProxyType** (A WRAPPER CLASS) comes into play. \n",
    "\n",
    "1. when instantiating it, you provide your **Mapping** object to it\n",
    "2. It will return a view of the mapping. **IT WILL NOT COPY THE INPUT MAPPING BUT RATHER IT WILL ACT AS A VIEW (like memoryview)\n",
    "3. This MappingProxy cannot be used for modification\n",
    "4. When the Mapping object is modified, the MappingProxy will reflect those changes (no need to create a new MappingProxy)"
   ]
  },
  {
   "cell_type": "code",
   "execution_count": 6,
   "metadata": {},
   "outputs": [
    {
     "name": "stdout",
     "output_type": "stream",
     "text": [
      "AaaaaaaaaaaaH\n",
      "{'a': 'AaaaaaaaaaaaH'}\n"
     ]
    },
    {
     "ename": "TypeError",
     "evalue": "'mappingproxy' object does not support item assignment",
     "output_type": "error",
     "traceback": [
      "\u001b[0;31m---------------------------------------------------------------------------\u001b[0m",
      "\u001b[0;31mTypeError\u001b[0m                                 Traceback (most recent call last)",
      "Cell \u001b[0;32mIn[6], line 12\u001b[0m\n\u001b[1;32m      8\u001b[0m \u001b[38;5;28mprint\u001b[39m(my_dummy_proxy)\n\u001b[1;32m     10\u001b[0m \u001b[38;5;66;03m# THIS SHOULD NOT WORK !!!!!!!!!!!!!!!!!!!!!!!!!!\u001b[39;00m\n\u001b[0;32m---> 12\u001b[0m \u001b[43mmy_dummy_proxy\u001b[49m\u001b[43m[\u001b[49m\u001b[38;5;124;43m'\u001b[39;49m\u001b[38;5;124;43ma\u001b[39;49m\u001b[38;5;124;43m'\u001b[39;49m\u001b[43m]\u001b[49m \u001b[38;5;241m=\u001b[39m \u001b[38;5;124m\"\u001b[39m\u001b[38;5;124mb\u001b[39m\u001b[38;5;124m\"\u001b[39m\n",
      "\u001b[0;31mTypeError\u001b[0m: 'mappingproxy' object does not support item assignment"
     ]
    }
   ],
   "source": [
    "from types import MappingProxyType\n",
    "\n",
    "my_dummy_dict = {\"a\":\"AaaaaaaaaaaaH\"}\n",
    "\n",
    "my_dummy_proxy = MappingProxyType(my_dummy_dict)\n",
    "\n",
    "print(my_dummy_proxy['a'])\n",
    "print(my_dummy_proxy)\n",
    "\n",
    "# THIS SHOULD NOT WORK !!!!!!!!!!!!!!!!!!!!!!!!!!\n",
    "\n",
    "my_dummy_proxy['a'] = \"b\""
   ]
  },
  {
   "cell_type": "markdown",
   "metadata": {},
   "source": [
    "## Set"
   ]
  },
  {
   "cell_type": "markdown",
   "metadata": {},
   "source": [
    "There are two type of sets:\n",
    "\n",
    "1. Set(): mutable therefore unhashable \n",
    "2. Frozenset: immutable therefore hashable\n",
    "\n",
    "Both requires hashable elements"
   ]
  },
  {
   "cell_type": "markdown",
   "metadata": {},
   "source": [
    "### Why set?"
   ]
  },
  {
   "cell_type": "markdown",
   "metadata": {},
   "source": [
    "\n",
    "\n",
    "1. You need to determine the number of unique elements in an Iterable object (like list/array)\n",
    "    * It will return the list of unique elements within that iterable \n",
    "\n",
    "2. You want to compare the difference (of unique values) between two Iterables"
   ]
  },
  {
   "cell_type": "markdown",
   "metadata": {},
   "source": [
    "### How to create a set ?"
   ]
  },
  {
   "cell_type": "markdown",
   "metadata": {},
   "source": [
    "1. Use set(), to instantiate a set. It expects an iterable as input \n",
    "2. Use literal experession of set\n",
    "3. Use setcomp\n",
    "\n",
    "the second is more efficient than the first one as you need to iterate through the iterable during the instantiation of the **set()** "
   ]
  },
  {
   "cell_type": "code",
   "execution_count": 14,
   "metadata": {},
   "outputs": [
    {
     "name": "stdout",
     "output_type": "stream",
     "text": [
      "your normal set is the following {'c', 'a', 'd', 'b'}\n",
      "your literal set is the following {'c', 'a', 'd', 'b'}\n",
      "my setcomp is the following {97, 98, 99, 100}\n",
      "<class 'dict'>\n"
     ]
    }
   ],
   "source": [
    "normal_set = set(['a','b','c','d','a'])\n",
    "print(f'your normal set is the following {normal_set}')\n",
    "\n",
    "# Duplicates are removed\n",
    "litertal_set= {'a','b','c','d','a'}\n",
    "print(f'your literal set is the following {litertal_set}')\n",
    "\n",
    "# setcomp \n",
    "my_list = ['a','b','c','d','a']\n",
    "my_set_comp = {ord(char) for char in my_list}\n",
    "print(f'my setcomp is the following {my_set_comp}')\n",
    "\n",
    "# how to create an empty set \n",
    "my_empty_set = set()\n",
    "\n",
    "# this one will not creat an empty set be CAREFUL !!!!!!!!!!!!!!!!!!!!!!!!!!!!!!!!!!!!!\n",
    "my_another_empty_unset = {}\n",
    "print(type(my_another_empty_unset))"
   ]
  },
  {
   "cell_type": "markdown",
   "metadata": {},
   "source": [
    "### Set class UML"
   ]
  },
  {
   "cell_type": "markdown",
   "metadata": {},
   "source": [
    "![image.png](/home/akallel/labs/fluent_python/Set_inheritence.png)"
   ]
  },
  {
   "cell_type": "markdown",
   "metadata": {},
   "source": [
    "### Set operations "
   ]
  },
  {
   "cell_type": "markdown",
   "metadata": {},
   "source": [
    "To make set operation with other sets you can use the normal operators like **& - | ^** but the operands must be **sets**\n",
    "\n",
    "If you want to make a set operation with one iterable or many iterables you can use the following methods:\n",
    "\n",
    "1. my_set.intersection()\n",
    "2. my_set.union()\n",
    "\n",
    "maybe there are others "
   ]
  },
  {
   "cell_type": "markdown",
   "metadata": {},
   "source": [
    "As I write this, there is a Python bug report—(issue 8743)—that says: “The\n",
    "set() operators (or, and, sub, xor, and their in-place counterparts) require\n",
    "that the parameter also be an instance of set().”, with the undesired side\n",
    "effect that these operators don’t work with collections.abc.Set\n",
    "subclasses. The bug is already fixed in trunk for Python 2.7 and 3.4, and\n",
    "should be history by the time you read this."
   ]
  },
  {
   "cell_type": "code",
   "execution_count": null,
   "metadata": {},
   "outputs": [],
   "source": [
    "set().union()\n",
    "set().intersection()"
   ]
  },
  {
   "cell_type": "markdown",
   "metadata": {},
   "source": [
    "## Hashing "
   ]
  },
  {
   "cell_type": "markdown",
   "metadata": {},
   "source": [
    "### What is it ?"
   ]
  },
  {
   "cell_type": "markdown",
   "metadata": {},
   "source": [
    "Hashing in an important process when dealing wiht sets and dict. Dict and Sets store their (key, value) or (key) in a Hash Table.\n",
    "\n",
    "Hashing is a process that transforms input data of any size into a fixed-size string of text, usually in the form of a sequence of characters. This output is known as a hash value or hash code. \n",
    "\n",
    "The spectrum of the hash value should be as wide as it can be so that if we have two similar inputs (like 1.1 and 1.0) their respective hash will be very different "
   ]
  },
  {
   "cell_type": "markdown",
   "metadata": {},
   "source": [
    "**Key Concepts of Hashing:**\n",
    "\n",
    "1. Deterministic:\n",
    "    * The same input will always produce the same hash value.\n",
    "2. Fixed Size:\n",
    "    * Regardless of the size of the input, the output (hash value) will have a fixed length. For example, SHA-256 produces a 256-bit (32-byte) hash value.\n",
    "3. Fast Computation:\n",
    "    * Hashing algorithms are designed to compute the hash value quickly.\n",
    "4. Pre-image Resistance:\n",
    "    * It should be computationally infeasible to generate the original input from its hash value.\n",
    "5. Collision Resistance:\n",
    "    * It should be difficult to find two different inputs that produce the same hash value.\n",
    "6. Avalanche Effect:\n",
    "    * A small change in the input should produce a significantly different hash value."
   ]
  },
  {
   "cell_type": "markdown",
   "metadata": {},
   "source": [
    "#### What is a Hash Table ?"
   ]
  },
  {
   "cell_type": "markdown",
   "metadata": {},
   "source": [
    "A Hash Table can be considered as a sparse array. where each cells can hold a value. In our case, It will be a reference to the key (we stop here for set) and reference to the value (when we talk about dict)\n",
    "\n",
    "A cell is called a **Bucket**"
   ]
  },
  {
   "cell_type": "markdown",
   "metadata": {},
   "source": [
    "### How the lookup works with dictonnary"
   ]
  },
  {
   "cell_type": "markdown",
   "metadata": {},
   "source": [
    "1. you start with my_dict[search_key]\n",
    "2. the **search_key** is hashed \n",
    "3. we take the least significant bits of the hash. And use it as offset (index)\n",
    "4. then,  we do this hash_table[offset]\n",
    "    * if hash_table is empty => Return **Keyerror**\n",
    "    * if hash not empty, check if the seach_key == hash_table[offset][reference_of_key]\n",
    "        * if yes, return hash_table[offset][reference_of_value]\n",
    "        * if no, we have a **hash_collision**: \n",
    "            * we take other bits from the hash_value of step 2 and repeat from step 3\n"
   ]
  },
  {
   "cell_type": "markdown",
   "metadata": {},
   "source": [
    "![image.png](/home/akallel/labs/fluent_python/hash_checking_workflow.png)"
   ]
  },
  {
   "cell_type": "markdown",
   "metadata": {},
   "source": [
    "### How about Insertion & Update ?"
   ]
  },
  {
   "cell_type": "markdown",
   "metadata": {},
   "source": [
    "The steps involved are similar than the look until step 4 then:\n",
    "\n",
    "5. if the hash_table[offset] is empty\n",
    "    * change the entry \n",
    "    * else update the entry "
   ]
  },
  {
   "cell_type": "markdown",
   "metadata": {},
   "source": [
    "### The Hash Table over time:"
   ]
  },
  {
   "cell_type": "markdown",
   "metadata": {},
   "source": [
    "In python, it keeps 1/3 (approximatively) of the buckets empty. Once, the threshold is exceeded, a new Hash Table is created and the old data is migrated. \n",
    "\n",
    "**With Bigger size table** the length of extracted bits from the hash value of the search_key will be larger therefore the collision probability is lower "
   ]
  },
  {
   "cell_type": "markdown",
   "metadata": {},
   "source": [
    "### How to make Keys Object hashable"
   ]
  },
  {
   "cell_type": "markdown",
   "metadata": {},
   "source": [
    "1. The oject must have a hash() methods which calls the __hash__ method  \n",
    "2. The object must have a eq() methods which call the __eq__ method \n",
    "3. if a == b then hash(a) ==  hash(b)"
   ]
  },
  {
   "cell_type": "markdown",
   "metadata": {},
   "source": [
    "User-defined types are hashable by default because their hash value is\n",
    "their id() and they all compare not equal.\n",
    "\n",
    "**WARNING**\n",
    "\n",
    "If you have implemented a custom __eq__, then you need to implement __hash__ in your user-defined class/types"
   ]
  },
  {
   "cell_type": "markdown",
   "metadata": {},
   "source": [
    "### The order of the key depends on the order of the insertion"
   ]
  },
  {
   "cell_type": "markdown",
   "metadata": {},
   "source": [
    "You have an existing dict, you insert a new (key,value): dict[key] = \"dsakjdsak\"\n",
    "\n",
    "You do step_1 and you reach step_4, then you have hash collision. You cannot insert that (key,value) because ther is a different key_name in that offset (let's call it offset_1). Then pytohn will get another bits from the hash value to create offset_2 which is empty upon verification.\n",
    "\n",
    "Then, the key will be saved in offset_2 instead.\n",
    "\n",
    "BUT if the dict is empty, then the key would have taken offset_1. That is why the order of insertion will determine the order (offset) of the key \n",
    "\n"
   ]
  },
  {
   "cell_type": "markdown",
   "metadata": {},
   "source": [
    "### Dictonnary and the significant memory overhead     "
   ]
  },
  {
   "cell_type": "markdown",
   "metadata": {},
   "source": [
    "The advantage of having o(1) searching capability comes at the cost of memory. If you have a large amount of dictonnary, you can use named tuple which can reduce the memory overhead. by storing the attribute name **once for all the instances on the definiton of the class namedtuple itself**"
   ]
  },
  {
   "cell_type": "markdown",
   "metadata": {},
   "source": [
    "For user-defined types, there is a **dunder** attribute called __storage__ which will return a tuple repesentation of your instance object "
   ]
  },
  {
   "cell_type": "markdown",
   "metadata": {},
   "source": [
    "### Do not change your current Dict or Set while looping over it"
   ]
  },
  {
   "cell_type": "markdown",
   "metadata": {},
   "source": [
    "When looping over a dict or a set, you might increase until python decides to create a new hashtable for it. This involves migrating the (key,value) stored in the old table to the new one.\n",
    "\n",
    "During this process, new (but different) hash collisions may\n",
    "happen, with the result that the keys are likely to be ordered differently\n",
    "in the new hash table. All of this is implementation-dependent, so you\n",
    "cannot reliably predict when it will happen. If you are iterating over\n",
    "the dictionary keys and changing them at the same time, your loop may\n",
    "not scan all the items as expected—not even the items that were\n",
    "already in the dictionary before you added to it"
   ]
  },
  {
   "cell_type": "markdown",
   "metadata": {},
   "source": []
  }
 ],
 "metadata": {
  "kernelspec": {
   "display_name": "fluentPythonEnv",
   "language": "python",
   "name": "python3"
  },
  "language_info": {
   "codemirror_mode": {
    "name": "ipython",
    "version": 3
   },
   "file_extension": ".py",
   "mimetype": "text/x-python",
   "name": "python",
   "nbconvert_exporter": "python",
   "pygments_lexer": "ipython3",
   "version": "3.10.12"
  }
 },
 "nbformat": 4,
 "nbformat_minor": 2
}

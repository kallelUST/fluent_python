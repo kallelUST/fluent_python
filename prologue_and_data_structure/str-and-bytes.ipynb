{
 "cells": [
  {
   "cell_type": "markdown",
   "metadata": {},
   "source": [
    "# Str, Bytes & bytesarray"
   ]
  },
  {
   "cell_type": "markdown",
   "metadata": {},
   "source": [
    "## Chararcters Issues"
   ]
  },
  {
   "cell_type": "markdown",
   "metadata": {},
   "source": [
    "### what is a str ? "
   ]
  },
  {
   "cell_type": "markdown",
   "metadata": {},
   "source": [
    "by definiton a sting is a sequence of characters. a character can be defined as a readable representation of word which is usually hexadicimal byte also called **Unicode or code point**.\n"
   ]
  },
  {
   "cell_type": "markdown",
   "metadata": {},
   "source": [
    "### What is Unicode ?"
   ]
  },
  {
   "cell_type": "markdown",
   "metadata": {},
   "source": [
    "<span style=\"color:green;\">a character is firstly identified by a digit that ranges from 0 to 1,114,111  </span>\n",
    "\n",
    "A Unicode is a standard of representing a character with number ranging from 0 to 1,114,116 in a hexadecimal manner.For example, the letter A is:\n",
    "\n",
    "1. Represented by 0041 hexadicimal code \n",
    "2. This code is then appended to 'U+'\n",
    "3. It turns out to tbe U+0041"
   ]
  },
  {
   "cell_type": "markdown",
   "metadata": {},
   "source": [
    "### How about python then ?"
   ]
  },
  {
   "cell_type": "markdown",
   "metadata": {},
   "source": [
    "For python, we use bytes or bytearray to have a byte representation of a string. The difference between them in python is bytes is immutable.\n",
    "\n",
    "to go from str (or from code point) to byte sequence, we use an encoding algo. Python has builtin algos for such purposes (utf-8, utf-16)."
   ]
  },
  {
   "cell_type": "markdown",
   "metadata": {},
   "source": [
    "<div class=\"alert alert-block alert-warning\">  \n",
    "<b>Warning:</b> In python 2, the byte was an alias for str. It was not there before.  \n",
    "</div>"
   ]
  },
  {
   "cell_type": "code",
   "execution_count": null,
   "metadata": {},
   "outputs": [
    {
     "name": "stdout",
     "output_type": "stream",
     "text": [
      "4\n",
      "bytearray(b'caf\\xc3\\xa9')\n",
      "99\n",
      "bytearray(b'c')\n"
     ]
    }
   ],
   "source": [
    "my_str = 'café'\n",
    "print(len(my_str))\n",
    "\n",
    "my_byte = bytearray(my_str, encoding='utf-8')\n",
    "print(my_byte)\n",
    "# an element of bytearray will be an integer \n",
    "# the range is from 0 to 255\n",
    "print(my_byte[0])\n",
    "# a slice of bytearray will be bytearray \n",
    "print(my_byte[:1])\n",
    "\n"
   ]
  },
  {
   "cell_type": "markdown",
   "metadata": {},
   "source": [
    "<div class=\"alert alert-block alert-info\">\n",
    "    <b>Information:</b> when you print a byte sequence:\n",
    "    <ol>\n",
    "        <li>If the character is within the ASCII range: from empty space to ~, you will see the character instead of the byte</li>\n",
    "        <li>Other special characters like tab, newline, backslash and return will be not represented with bytes</li>\n",
    "        <li>Others on the other hand, we will see their byte representation</li>\n",
    "    </ol>\n",
    "    Also, the byte sequence type share the str methods that are not related to Unicode and Formatting like the following \n",
    "    <ul>\n",
    "        <li>format() and formatmapping()</li>\n",
    "        <li>asefold, isdecimal, isidentifier,isnumeric, isprintable, and encode</li>\n",
    "    </ul>\n",
    "</div>"
   ]
  },
  {
   "cell_type": "code",
   "execution_count": null,
   "metadata": {},
   "outputs": [],
   "source": []
  },
  {
   "cell_type": "markdown",
   "metadata": {},
   "source": [
    "### Different ways of creating bytesarray or bytes \n",
    "\n",
    "1. You can pass an object that support the buffer protocol (like arra)\n",
    "2. You can pass a string along with the encoding algo \n",
    "3. You can pass a string with hexadicimal digit sperated by space using the method fromhex()\n",
    "4. An iterable with integer ranging between 0 and 255"
   ]
  },
  {
   "cell_type": "markdown",
   "metadata": {},
   "source": [
    "what we need to take not of \n",
    "\n",
    "what is str char code points and bytes\n",
    "\n",
    "what is bytes and bytearray \n",
    "\n",
    "how to creat bytes "
   ]
  },
  {
   "cell_type": "code",
   "execution_count": null,
   "metadata": {},
   "outputs": [],
   "source": []
  }
 ],
 "metadata": {
  "kernelspec": {
   "display_name": "fluentPythonEnv",
   "language": "python",
   "name": "python3"
  },
  "language_info": {
   "codemirror_mode": {
    "name": "ipython",
    "version": 3
   },
   "file_extension": ".py",
   "mimetype": "text/x-python",
   "name": "python",
   "nbconvert_exporter": "python",
   "pygments_lexer": "ipython3",
   "version": "3.10.12"
  }
 },
 "nbformat": 4,
 "nbformat_minor": 2
}

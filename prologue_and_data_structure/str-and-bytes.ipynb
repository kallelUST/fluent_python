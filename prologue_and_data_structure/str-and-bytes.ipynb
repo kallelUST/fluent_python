{
 "cells": [
  {
   "cell_type": "markdown",
   "metadata": {},
   "source": [
    "# Str, Bytes & bytesarray"
   ]
  },
  {
   "cell_type": "markdown",
   "metadata": {},
   "source": [
    "## Chararcters Issues"
   ]
  },
  {
   "cell_type": "markdown",
   "metadata": {},
   "source": [
    "### what is a str ? "
   ]
  },
  {
   "cell_type": "markdown",
   "metadata": {},
   "source": [
    "by definiton a sting is a sequence of characters. a character can be defined as a readable representation of word which is usually hexadicimal byte also called **Unicode or code point**.\n"
   ]
  },
  {
   "cell_type": "markdown",
   "metadata": {},
   "source": [
    "### What is Unicode ?"
   ]
  },
  {
   "cell_type": "markdown",
   "metadata": {},
   "source": [
    "<span style=\"color:green;\">a character is firstly identified by a digit that ranges from 0 to 1,114,111  </span>\n",
    "\n",
    "A Unicode is a standard of representing a character with number ranging from 0 to 1,114,116 in a hexadecimal manner.For example, the letter A is:\n",
    "\n",
    "1. Represented by 0041 hexadicimal code \n",
    "2. This code is then appended to 'U+'\n",
    "3. It turns out to tbe U+0041"
   ]
  },
  {
   "cell_type": "markdown",
   "metadata": {},
   "source": [
    "### How about python then ?"
   ]
  },
  {
   "cell_type": "markdown",
   "metadata": {},
   "source": [
    "For python, we use bytes or bytearray to have a byte representation of a string. The difference between them in python is bytes is immutable.\n",
    "\n",
    "to go from str (or from code point) to byte sequence, we use an encoding algo. Python has builtin algos for such purposes (utf-8, utf-16)."
   ]
  },
  {
   "cell_type": "markdown",
   "metadata": {},
   "source": [
    "<div class=\"alert alert-block alert-warning\">  \n",
    "<b>Warning:</b> In python 2, the byte was an alias for str. It was not there before.  \n",
    "</div>"
   ]
  },
  {
   "cell_type": "code",
   "execution_count": null,
   "metadata": {},
   "outputs": [
    {
     "name": "stdout",
     "output_type": "stream",
     "text": [
      "4\n",
      "bytearray(b'caf\\xc3\\xa9')\n",
      "99\n",
      "bytearray(b'c')\n"
     ]
    }
   ],
   "source": [
    "my_str = 'café'\n",
    "print(len(my_str))\n",
    "\n",
    "my_byte = bytearray(my_str, encoding='utf-8')\n",
    "print(my_byte)\n",
    "# an element of bytearray will be an integer \n",
    "# the range is from 0 to 255\n",
    "print(my_byte[0])\n",
    "# a slice of bytearray will be bytearray \n",
    "print(my_byte[:1])\n",
    "\n"
   ]
  },
  {
   "cell_type": "markdown",
   "metadata": {},
   "source": [
    "<div class=\"alert alert-block alert-info\">\n",
    "    <b>Information:</b> when you print a byte sequence:\n",
    "    <ol>\n",
    "        <li>If the character is within the ASCII range: from empty space to ~, you will see the character instead of the byte</li>\n",
    "        <li>Other special characters like tab, newline, backslash and return will be not represented with bytes</li>\n",
    "        <li>Others on the other hand, we will see their byte representation</li>\n",
    "    </ol>\n",
    "    Also, the byte sequence type share the str methods that are not related to Unicode and Formatting like the following \n",
    "    <ul>\n",
    "        <li>format() and formatmapping()</li>\n",
    "        <li>asefold, isdecimal, isidentifier,isnumeric, isprintable, and encode</li>\n",
    "    </ul>\n",
    "</div>"
   ]
  },
  {
   "cell_type": "code",
   "execution_count": null,
   "metadata": {},
   "outputs": [],
   "source": []
  },
  {
   "cell_type": "markdown",
   "metadata": {},
   "source": [
    "### Different ways of creating bytesarray or bytes \n",
    "\n",
    "1. You can pass an object that support the buffer protocol (like arra)\n",
    "2. You can pass a string along with the encoding algo \n",
    "3. You can pass a string with hexadicimal digit sperated by space using the method fromhex()\n",
    "4. An iterable with integer ranging between 0 and 255"
   ]
  },
  {
   "cell_type": "markdown",
   "metadata": {},
   "source": [
    "### Struct and MemoryViews"
   ]
  },
  {
   "cell_type": "markdown",
   "metadata": {},
   "source": [
    "Struct is used for essentially two things: \n",
    "\n",
    "1. decompose byte sequence (bytes and bytearray) into tuple in which each element is a byte. \n",
    "2. It will also allow you to go from the tuple of bytes to the byte sequece too.\n",
    "\n",
    "When to use it:\n",
    "\n",
    "1. Dealing with binary files: you can read binary files and unpack those bytes through struct \n",
    "2. Network and Protocal: \n",
    "    * pack data when sending over the network \n",
    "    * unpack data when receivi the data "
   ]
  },
  {
   "cell_type": "code",
   "execution_count": 9,
   "metadata": {},
   "outputs": [
    {
     "name": "stdout",
     "output_type": "stream",
     "text": [
      "(1, b'Hello')\n"
     ]
    }
   ],
   "source": [
    "import struct\n",
    "\n",
    "# Binary data containing an integer and a string\n",
    "packed_data = b'\\x01\\x00\\x00\\x00Hello'\n",
    "\n",
    "# Format string:\n",
    "# - 'i' for integer (4 bytes)\n",
    "# - '5s' for a string of 5 characters\n",
    "fmt = 'i5s'\n",
    "\n",
    "# Unpack the data\n",
    "unpacked_data = struct.unpack(fmt, packed_data)\n",
    "\n",
    "print(unpacked_data)"
   ]
  },
  {
   "cell_type": "code",
   "execution_count": 11,
   "metadata": {},
   "outputs": [
    {
     "name": "stdout",
     "output_type": "stream",
     "text": [
      "the packed data is the following b'\\x00\\x00\\x00\\x01\\x00\\x00\\x00\\nHelloWorld'\n"
     ]
    }
   ],
   "source": [
    "import struct\n",
    "import socket\n",
    "\n",
    "# Example: Packing a message for a network protocol\n",
    "message_type = 1\n",
    "message_length = 10\n",
    "payload = b'HelloWorld'\n",
    "packed_data = struct.pack('!II10s', message_type, message_length, payload)\n",
    "\n",
    "print(f'the packed data is the following {packed_data}')"
   ]
  },
  {
   "cell_type": "markdown",
   "metadata": {},
   "source": [
    "## Encoders And Decoders "
   ]
  },
  {
   "cell_type": "markdown",
   "metadata": {},
   "source": [
    "In python, we have arround 100 codecs (encoders/decoders), The famous are the following \n",
    "\n",
    "1. cp1252: the introduced by the miscrosoft OS. \n",
    "2. iso8859_1: it is the grand parents of most the codecs here \n",
    "3. UTF-8: most common one, that covers almost every character backward compatible with ASCII\n",
    "4. UTF-16LE: it covers almost everything "
   ]
  },
  {
   "cell_type": "markdown",
   "metadata": {},
   "source": [
    "## Codecs Problems "
   ]
  },
  {
   "cell_type": "markdown",
   "metadata": {},
   "source": [
    "There are 3 types of CODECS problems:\n",
    "\n",
    "1. EnocdingError\n",
    "2. DecodingError\n",
    "3. Syntax Error \n",
    "\n",
    "most of the error usually comes from the first 2 cases "
   ]
  },
  {
   "cell_type": "markdown",
   "metadata": {},
   "source": [
    "### Encoding Error"
   ]
  },
  {
   "cell_type": "markdown",
   "metadata": {},
   "source": [
    "Encoding Error can come from:\n",
    "\n",
    "1. Having a character that is out of range of the codec you are using\n",
    "2. Not specifying the codec type (utf-8, cp1552,iso8859_1) when calling the encoder methods  "
   ]
  },
  {
   "cell_type": "code",
   "execution_count": null,
   "metadata": {},
   "outputs": [
    {
     "name": "stdout",
     "output_type": "stream",
     "text": [
      "utf-8 encoding is as the following : b'S\\xc3\\xa3o Paulo'\n",
      "utf-16LE encoding is as the following : b'\\xff\\xfeS\\x00\\xe3\\x00o\\x00 \\x00P\\x00a\\x00u\\x00l\\x00o\\x00'\n",
      "encodign with cp will not work as ã is out of range\n"
     ]
    },
    {
     "ename": "UnicodeEncodeError",
     "evalue": "'charmap' codec can't encode character '\\xe3' in position 1: character maps to <undefined>",
     "output_type": "error",
     "traceback": [
      "\u001b[0;31m---------------------------------------------------------------------------\u001b[0m",
      "\u001b[0;31mUnicodeEncodeError\u001b[0m                        Traceback (most recent call last)",
      "Cell \u001b[0;32mIn[19], line 7\u001b[0m\n\u001b[1;32m      4\u001b[0m \u001b[38;5;28mprint\u001b[39m(\u001b[38;5;124m\"\u001b[39m\u001b[38;5;124mutf-16LE encoding is as the following :\u001b[39m\u001b[38;5;124m\"\u001b[39m,city\u001b[38;5;241m.\u001b[39mencode(\u001b[38;5;124m'\u001b[39m\u001b[38;5;124mutf-16\u001b[39m\u001b[38;5;124m'\u001b[39m))\n\u001b[1;32m      6\u001b[0m \u001b[38;5;28mprint\u001b[39m(\u001b[38;5;124m\"\u001b[39m\u001b[38;5;124mencodign with cp will not work as ã is out of range\u001b[39m\u001b[38;5;124m\"\u001b[39m)\n\u001b[0;32m----> 7\u001b[0m \u001b[38;5;28mprint\u001b[39m(\u001b[38;5;124m\"\u001b[39m\u001b[38;5;124mcp encoding is as the following :\u001b[39m\u001b[38;5;124m\"\u001b[39m,\u001b[43mcity\u001b[49m\u001b[38;5;241;43m.\u001b[39;49m\u001b[43mencode\u001b[49m\u001b[43m(\u001b[49m\u001b[38;5;124;43m'\u001b[39;49m\u001b[38;5;124;43mcp437\u001b[39;49m\u001b[38;5;124;43m'\u001b[39;49m\u001b[43m)\u001b[49m)\n",
      "File \u001b[0;32m/usr/lib/python3.10/encodings/cp437.py:12\u001b[0m, in \u001b[0;36mCodec.encode\u001b[0;34m(self, input, errors)\u001b[0m\n\u001b[1;32m     11\u001b[0m \u001b[38;5;28;01mdef\u001b[39;00m\u001b[38;5;250m \u001b[39m\u001b[38;5;21mencode\u001b[39m(\u001b[38;5;28mself\u001b[39m,\u001b[38;5;28minput\u001b[39m,errors\u001b[38;5;241m=\u001b[39m\u001b[38;5;124m'\u001b[39m\u001b[38;5;124mstrict\u001b[39m\u001b[38;5;124m'\u001b[39m):\n\u001b[0;32m---> 12\u001b[0m     \u001b[38;5;28;01mreturn\u001b[39;00m \u001b[43mcodecs\u001b[49m\u001b[38;5;241;43m.\u001b[39;49m\u001b[43mcharmap_encode\u001b[49m\u001b[43m(\u001b[49m\u001b[38;5;28;43minput\u001b[39;49m\u001b[43m,\u001b[49m\u001b[43merrors\u001b[49m\u001b[43m,\u001b[49m\u001b[43mencoding_map\u001b[49m\u001b[43m)\u001b[49m\n",
      "\u001b[0;31mUnicodeEncodeError\u001b[0m: 'charmap' codec can't encode character '\\xe3' in position 1: character maps to <undefined>"
     ]
    }
   ],
   "source": [
    "city = 'São Paulo'\n",
    "print(\"utf-8 encoding is as the following :\",city.encode('utf-8'))\n",
    "\n",
    "print(\"utf-16LE encoding is as the following :\",city.encode('utf-16'))\n",
    "\n",
    "print(\"encodign with cp will not work as ã is out of range\")\n",
    "print(\"cp encoding is as the following :\",city.encode('cp437'))"
   ]
  },
  {
   "cell_type": "markdown",
   "metadata": {},
   "source": [
    "One solution is to use the error method that acts as a **catch** for the EncodingError"
   ]
  },
  {
   "cell_type": "code",
   "execution_count": 22,
   "metadata": {},
   "outputs": [
    {
     "name": "stdout",
     "output_type": "stream",
     "text": [
      "cp encoding is as the following : b'So Paulo'\n",
      "cp encoding is as the following : b'S?o Paulo'\n"
     ]
    }
   ],
   "source": [
    "\n",
    "print(\"cp encoding is as the following :\",city.encode('cp437',errors='ignore'))\n",
    "\n",
    "print(\"cp encoding is as the following :\",city.encode('cp437', errors=\"replace\"))"
   ]
  },
  {
   "cell_type": "markdown",
   "metadata": {},
   "source": [
    "### Decoding error "
   ]
  },
  {
   "cell_type": "markdown",
   "metadata": {},
   "source": [
    "Not every byte holds a valid ASCII character, and not every byte\n",
    "sequence is valid UTF-8 or UTF-16; therefore, when you assume one\n",
    "of these encodings while converting a binary sequence to text, you will\n",
    "get a UnicodeDecodeError if unexpected bytes are found."
   ]
  },
  {
   "cell_type": "markdown",
   "metadata": {},
   "source": [
    "<div class=\"alert alert-block alert-warning\">  \n",
    "<b>Warning:</b> Some Encoding will silently fails by either replacing it by garbage or something close (the case of cp1552 and iso8859_1).  \n",
    "</div>"
   ]
  },
  {
   "cell_type": "code",
   "execution_count": 30,
   "metadata": {},
   "outputs": [
    {
     "name": "stdout",
     "output_type": "stream",
     "text": [
      "<class 'bytes'>\n",
      "Montréal\n",
      "Montrιal\n"
     ]
    },
    {
     "ename": "UnicodeDecodeError",
     "evalue": "'utf-8' codec can't decode byte 0xe9 in position 5: invalid continuation byte",
     "output_type": "error",
     "traceback": [
      "\u001b[0;31m---------------------------------------------------------------------------\u001b[0m",
      "\u001b[0;31mUnicodeDecodeError\u001b[0m                        Traceback (most recent call last)",
      "Cell \u001b[0;32mIn[30], line 7\u001b[0m\n\u001b[1;32m      4\u001b[0m \u001b[38;5;28mprint\u001b[39m(octets\u001b[38;5;241m.\u001b[39mdecode(\u001b[38;5;124m\"\u001b[39m\u001b[38;5;124mcp1252\u001b[39m\u001b[38;5;124m\"\u001b[39m))\n\u001b[1;32m      5\u001b[0m \u001b[38;5;28mprint\u001b[39m(octets\u001b[38;5;241m.\u001b[39mdecode(\u001b[38;5;124m'\u001b[39m\u001b[38;5;124miso8859_7\u001b[39m\u001b[38;5;124m'\u001b[39m))\n\u001b[0;32m----> 7\u001b[0m \u001b[43moctets\u001b[49m\u001b[38;5;241;43m.\u001b[39;49m\u001b[43mdecode\u001b[49m\u001b[43m(\u001b[49m\u001b[38;5;124;43m\"\u001b[39;49m\u001b[38;5;124;43mutf-8\u001b[39;49m\u001b[38;5;124;43m\"\u001b[39;49m\u001b[43m)\u001b[49m\n",
      "\u001b[0;31mUnicodeDecodeError\u001b[0m: 'utf-8' codec can't decode byte 0xe9 in position 5: invalid continuation byte"
     ]
    }
   ],
   "source": [
    "octets = b'Montr\\xe9al'\n",
    "print(type(octets))    \n",
    "\n",
    "print(octets.decode(\"cp1252\"))\n",
    "print(octets.decode('iso8859_7'))\n",
    "\n",
    "octets.decode(\"utf-8\")"
   ]
  },
  {
   "cell_type": "markdown",
   "metadata": {},
   "source": [
    "similarly, you can the error parameters to handle decodingError \n",
    "```python \n",
    "octets.decode('utf_8', errors='replace')\n",
    "```"
   ]
  },
  {
   "cell_type": "code",
   "execution_count": 31,
   "metadata": {},
   "outputs": [
    {
     "name": "stdout",
     "output_type": "stream",
     "text": [
      "Olá, Mundo!\n"
     ]
    }
   ],
   "source": [
    "print('Olá, Mundo!')"
   ]
  },
  {
   "cell_type": "code",
   "execution_count": null,
   "metadata": {},
   "outputs": [],
   "source": []
  }
 ],
 "metadata": {
  "kernelspec": {
   "display_name": "fluentPythonEnv",
   "language": "python",
   "name": "python3"
  },
  "language_info": {
   "codemirror_mode": {
    "name": "ipython",
    "version": 3
   },
   "file_extension": ".py",
   "mimetype": "text/x-python",
   "name": "python",
   "nbconvert_exporter": "python",
   "pygments_lexer": "ipython3",
   "version": "3.10.12"
  }
 },
 "nbformat": 4,
 "nbformat_minor": 2
}
